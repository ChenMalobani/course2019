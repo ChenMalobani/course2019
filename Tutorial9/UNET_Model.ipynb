{
  "nbformat": 4,
  "nbformat_minor": 0,
  "metadata": {
    "colab": {
      "name": "UNET_Model.ipynb",
      "version": "0.3.2",
      "provenance": [],
      "include_colab_link": true
    },
    "kernelspec": {
      "name": "python3",
      "display_name": "Python 3"
    }
  },
  "cells": [
    {
      "cell_type": "markdown",
      "metadata": {
        "id": "view-in-github",
        "colab_type": "text"
      },
      "source": [
        "<a href=\"https://colab.research.google.com/github/WeizmannML/course2019/blob/master/Tutorial9/UNET_Model.ipynb\" target=\"_parent\"><img src=\"https://colab.research.google.com/assets/colab-badge.svg\" alt=\"Open In Colab\"/></a>"
      ]
    },
    {
      "cell_type": "code",
      "metadata": {
        "id": "CiBzmW6XQVpM",
        "colab_type": "code",
        "colab": {}
      },
      "source": [
        "import torch\n",
        "from torch import nn\n",
        "import torch.nn.functional as F\n",
        "import torch.optim as optim"
      ],
      "execution_count": 0,
      "outputs": []
    },
    {
      "cell_type": "markdown",
      "metadata": {
        "id": "rk2Pdi-DSJYy",
        "colab_type": "text"
      },
      "source": [
        "### Ref : https://towardsdatascience.com/u-net-b229b32b4a71"
      ]
    },
    {
      "cell_type": "code",
      "metadata": {
        "id": "UBGuZpPlQxjG",
        "colab_type": "code",
        "colab": {}
      },
      "source": [
        "class UNet(nn.Module):\n",
        "    def contracting_block(self, in_channels, out_channels, kernel_size=3):\n",
        "        block = torch.nn.Sequential(\n",
        "                    torch.nn.Conv2d(kernel_size=kernel_size, in_channels=in_channels, out_channels=out_channels),\n",
        "                    torch.nn.ReLU(),\n",
        "                    torch.nn.BatchNorm2d(out_channels),\n",
        "                    torch.nn.Conv2d(kernel_size=kernel_size, in_channels=out_channels, out_channels=out_channels),\n",
        "                    torch.nn.ReLU(),\n",
        "                    torch.nn.BatchNorm2d(out_channels),\n",
        "                )\n",
        "        return block\n",
        "    \n",
        "    def expansive_block(self, in_channels, mid_channel, out_channels, kernel_size=3):\n",
        "            block = torch.nn.Sequential(\n",
        "                    torch.nn.Conv2d(kernel_size=kernel_size, in_channels=in_channels, out_channels=mid_channel),\n",
        "                    torch.nn.ReLU(),\n",
        "                    torch.nn.BatchNorm2d(mid_channel),\n",
        "                    torch.nn.Conv2d(kernel_size=kernel_size, in_channels=mid_channel, out_channels=mid_channel),\n",
        "                    torch.nn.ReLU(),\n",
        "                    torch.nn.BatchNorm2d(mid_channel),\n",
        "                    torch.nn.ConvTranspose2d(in_channels=mid_channel, out_channels=out_channels, kernel_size=3, stride=2, padding=1, output_padding=1)\n",
        "                    )\n",
        "            return  block\n",
        "    \n",
        "    def final_block(self, in_channels, mid_channel, out_channels, kernel_size=3):\n",
        "            block = torch.nn.Sequential(\n",
        "                    torch.nn.Conv2d(kernel_size=kernel_size, in_channels=in_channels, out_channels=mid_channel),\n",
        "                    torch.nn.ReLU(),\n",
        "                    torch.nn.BatchNorm2d(mid_channel),\n",
        "                    torch.nn.Conv2d(kernel_size=kernel_size, in_channels=mid_channel, out_channels=mid_channel),\n",
        "                    torch.nn.ReLU(),\n",
        "                    torch.nn.BatchNorm2d(mid_channel),\n",
        "                    torch.nn.Conv2d(kernel_size=kernel_size, in_channels=mid_channel, out_channels=out_channels, padding=1),\n",
        "                    torch.nn.ReLU(),\n",
        "                    torch.nn.BatchNorm2d(out_channels),\n",
        "                    )\n",
        "            return  block\n",
        "    \n",
        "    def __init__(self, in_channel, out_channel):\n",
        "        super(UNet, self).__init__()\n",
        "        #Encode\n",
        "        self.conv_encode1 = self.contracting_block(in_channels=in_channel, out_channels=64)\n",
        "        self.conv_maxpool1 = torch.nn.MaxPool2d(kernel_size=2)\n",
        "        self.conv_encode2 = self.contracting_block(64, 128)\n",
        "        self.conv_maxpool2 = torch.nn.MaxPool2d(kernel_size=2)\n",
        "        self.conv_encode3 = self.contracting_block(128, 256)\n",
        "        self.conv_maxpool3 = torch.nn.MaxPool2d(kernel_size=2)\n",
        "        # Bottleneck\n",
        "        self.bottleneck = torch.nn.Sequential(\n",
        "                            torch.nn.Conv2d(kernel_size=3, in_channels=256, out_channels=512),\n",
        "                            torch.nn.ReLU(),\n",
        "                            torch.nn.BatchNorm2d(512),\n",
        "                            torch.nn.Conv2d(kernel_size=3, in_channels=512, out_channels=512),\n",
        "                            torch.nn.ReLU(),\n",
        "                            torch.nn.BatchNorm2d(512),\n",
        "                            torch.nn.ConvTranspose2d(in_channels=512, out_channels=256, kernel_size=3, stride=2, padding=1, output_padding=1)\n",
        "                            )\n",
        "        # Decode\n",
        "        self.conv_decode3 = self.expansive_block(512, 256, 128)\n",
        "        self.conv_decode2 = self.expansive_block(256, 128, 64)\n",
        "        self.final_layer = self.final_block(128, 64, out_channel)\n",
        "        \n",
        "    def crop_and_concat(self, upsampled, bypass, crop=False):\n",
        "        if crop:\n",
        "            c = (bypass.size()[2] - upsampled.size()[2]) // 2\n",
        "            bypass = F.pad(bypass, (-c, -c, -c, -c))\n",
        "        return torch.cat((upsampled, bypass), 1)\n",
        "    \n",
        "    def forward(self, x):\n",
        "        # Encode\n",
        "        encode_block1 = self.conv_encode1(x)\n",
        "        encode_pool1 = self.conv_maxpool1(encode_block1)\n",
        "        encode_block2 = self.conv_encode2(encode_pool1)\n",
        "        encode_pool2 = self.conv_maxpool2(encode_block2)\n",
        "        encode_block3 = self.conv_encode3(encode_pool2)\n",
        "        encode_pool3 = self.conv_maxpool3(encode_block3)\n",
        "        # Bottleneck\n",
        "        bottleneck1 = self.bottleneck(encode_pool3)\n",
        "        # Decode\n",
        "        decode_block3 = self.crop_and_concat(bottleneck1, encode_block3, crop=True)\n",
        "        cat_layer2 = self.conv_decode3(decode_block3)\n",
        "        decode_block2 = self.crop_and_concat(cat_layer2, encode_block2, crop=True)\n",
        "        cat_layer1 = self.conv_decode2(decode_block2)\n",
        "        decode_block1 = self.crop_and_concat(cat_layer1, encode_block1, crop=True)\n",
        "        final_layer = self.final_layer(decode_block1)\n",
        "        return  final_layer"
      ],
      "execution_count": 0,
      "outputs": []
    },
    {
      "cell_type": "markdown",
      "metadata": {
        "id": "wGXGveWsUE06",
        "colab_type": "text"
      },
      "source": [
        "### Usage"
      ]
    },
    {
      "cell_type": "code",
      "metadata": {
        "id": "GZliAVsOQ52s",
        "colab_type": "code",
        "colab": {}
      },
      "source": [
        "unet = Unet(in_channel=1,out_channel=2)\n",
        "#out_channel represents number of segments desired\n",
        "criterion = torch.nn.CrossEntropyLoss()\n",
        "optimizer = torch.optim.SGD(unet.parameters(), lr = 0.01, momentum=0.99)\n",
        "optimizer.zero_grad()       \n",
        "outputs = unet(inputs)\n",
        "# permute such that number of desired segments would be on 4th dimension\n",
        "outputs = outputs.permute(0, 2, 3, 1)\n",
        "m = outputs.shape[0]\n",
        "# Resizing the outputs and label to caculate pixel wise softmax loss\n",
        "outputs = outputs.resize(m*width_out*height_out, 2)\n",
        "labels = labels.resize(m*width_out*height_out)\n",
        "loss = criterion(outputs, labels)\n",
        "loss.backward()\n",
        "optimizer.step()"
      ],
      "execution_count": 0,
      "outputs": []
    },
    {
      "cell_type": "code",
      "metadata": {
        "id": "1wy2M-tYYmcF",
        "colab_type": "code",
        "colab": {}
      },
      "source": [
        "F.pad??"
      ],
      "execution_count": 0,
      "outputs": []
    },
    {
      "cell_type": "code",
      "metadata": {
        "id": "eL-BhjpPYn4X",
        "colab_type": "code",
        "colab": {}
      },
      "source": [
        ""
      ],
      "execution_count": 0,
      "outputs": []
    }
  ]
}