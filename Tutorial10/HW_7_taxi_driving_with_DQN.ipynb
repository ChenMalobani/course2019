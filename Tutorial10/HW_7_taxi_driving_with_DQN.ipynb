{
 "cells": [
  {
   "cell_type": "markdown",
   "metadata": {},
   "source": [
    "## Taxi driving with DQN"
   ]
  },
  {
   "cell_type": "code",
   "execution_count": 1,
   "metadata": {},
   "outputs": [],
   "source": [
    "import gym\n",
    "import numpy as np\n",
    "import torch\n",
    "from torch import nn\n",
    "from PIL import Image\n",
    "import random\n",
    "import torch.nn.functional as F\n",
    "import torchvision.transforms as T\n",
    "import matplotlib.pyplot as plt\n",
    "from matplotlib import animation, rc\n",
    "from IPython.display import HTML\n",
    "from IPython.display import clear_output\n",
    "from time import sleep"
   ]
  },
  {
   "cell_type": "markdown",
   "metadata": {},
   "source": [
    "This homework aims to show you how \"deep Q-learning\" works for a reinforcment learning task\n",
    "\n",
    "since usually these algorithms take a along time to train, we will use a simple \"toy\" task, first solve it without using a neural network, and then use a neural network to do the same task.\n",
    "\n",
    "## what to actually do in the homework:\n",
    "please read through the notebook step by step, in the last section of the notebook there is some code \"missing\". you have to put it together yourself, run the training for about 20 min to see the results. Once you have finished training save the notebook and submit it, and that is the entire extent of the home work. "
   ]
  },
  {
   "cell_type": "markdown",
   "metadata": {},
   "source": [
    "## the task: taxi-v2 from openai gym\n",
    "\n",
    "this task involves driving a taxi on a 5x5 grid to pick up a passanger from 1 location and drop him off at a destination"
   ]
  },
  {
   "cell_type": "code",
   "execution_count": 2,
   "metadata": {},
   "outputs": [],
   "source": [
    "env = gym.make('Taxi-v2').env\n",
    "env.reset();"
   ]
  },
  {
   "cell_type": "markdown",
   "metadata": {},
   "source": [
    "there are 6 possible actions, south/north/east/west/pickup/dropoff\n",
    "\n",
    "there is a more detailed explanation of the game here: \n",
    "https://learndatasci.com/tutorials/reinforcement-q-learning-scratch-python-openai-gym/\n",
    "where also you will find a detailed description of the \"non-neural-net based\" solution"
   ]
  },
  {
   "cell_type": "code",
   "execution_count": 7,
   "metadata": {},
   "outputs": [
    {
     "data": {
      "text/plain": [
       "Discrete(6)"
      ]
     },
     "execution_count": 7,
     "metadata": {},
     "output_type": "execute_result"
    }
   ],
   "source": [
    "env.action_space"
   ]
  },
  {
   "cell_type": "markdown",
   "metadata": {},
   "source": [
    "## Let's see a random game being played, where the actions is chosen randomly\n",
    "\n",
    "notice that the environment gives -1 reward for each time step where you don't finish the task, -10 reward for incorrect dropoff/pickup and +20 points for finishing the task.\n",
    "\n",
    "the random agent can take a long time to finish the task - if you see this game being played for more than 1000+ steps, feel free to kill it and try again. sometimes it mananges to finish in under 1000 steps."
   ]
  },
  {
   "cell_type": "code",
   "execution_count": 14,
   "metadata": {},
   "outputs": [
    {
     "name": "stdout",
     "output_type": "stream",
     "text": [
      "+---------+\n",
      "|R: | : :G|\n",
      "| : : : : |\n",
      "| : : : : |\n",
      "| | : | : |\n",
      "|\u001b[35m\u001b[34;1m\u001b[43mY\u001b[0m\u001b[0m\u001b[0m| : |B: |\n",
      "+---------+\n",
      "  (Dropoff)\n",
      "steps  838  reward  20\n",
      "done!\n"
     ]
    },
    {
     "data": {
      "text/plain": [
       "838"
      ]
     },
     "execution_count": 14,
     "metadata": {},
     "output_type": "execute_result"
    }
   ],
   "source": [
    "def play_game(render=False):\n",
    "    done = False\n",
    "    steps = 0\n",
    "    state = env.reset()\n",
    "    while not done:\n",
    "        steps+=1\n",
    "        clear_output(wait=True)\n",
    "        next_state, reward , done, env_info = env.step( env.action_space.sample() )\n",
    "        if render:\n",
    "            env.render()\n",
    "            print('steps ',steps,' reward ',reward)\n",
    "\n",
    "        if done:\n",
    "            if render:\n",
    "                print('done!')\n",
    "            return steps\n",
    "        else:\n",
    "            state = next_state\n",
    "        \n",
    "    return -99\n",
    "    \n",
    "\n",
    "play_game(render=True)"
   ]
  },
  {
   "cell_type": "markdown",
   "metadata": {},
   "source": [
    "## we can train an agent to \"solve\" this task in about 30 seconds using Q-learning (no neural network). This is because there are only 500 possible states in the game\n",
    "\n",
    "5x5 position of the taxi, 5 possible passanger locations, 4 possible destinations\n",
    "\n",
    "we solve the game by creating a 500x6 matrix, where each state in the game (described by an integer between 0 and 499) has a quality value to each possible action. the max value determines which action we will take.\n",
    "\n",
    "we start with all 0 \"Q values\" and start playing games randomly, updating the q values based on the rewards we observe, a quick but clear description of this algorithm you can read here:\n",
    "https://learndatasci.com/tutorials/reinforcement-q-learning-scratch-python-openai-gym/\n",
    "\n",
    "this algorithm learns to solve the task well in about 30 seconds of \"training\""
   ]
  },
  {
   "cell_type": "code",
   "execution_count": 15,
   "metadata": {},
   "outputs": [],
   "source": [
    "#start with the all zeros table,\n",
    "q_table = np.zeros([env.observation_space.n, env.action_space.n])"
   ]
  },
  {
   "cell_type": "code",
   "execution_count": 16,
   "metadata": {},
   "outputs": [],
   "source": [
    "#training parameters\n",
    "alpha = 0.1\n",
    "gamma = 0.6\n",
    "epsilon = 0.1"
   ]
  },
  {
   "cell_type": "code",
   "execution_count": 17,
   "metadata": {},
   "outputs": [
    {
     "name": "stdout",
     "output_type": "stream",
     "text": [
      "Episode: 100000\n"
     ]
    }
   ],
   "source": [
    "steps_per_game = []\n",
    "\n",
    "for i in range(1, 100001):\n",
    "    state = env.reset()\n",
    "\n",
    "    epochs, penalties, reward, = 0, 0, 0\n",
    "    done = False\n",
    "    steps = 0\n",
    "    \n",
    "    while not done:\n",
    "        steps+=1\n",
    "        if random.uniform(0, 1) < epsilon:\n",
    "            action = env.action_space.sample() # Explore action space\n",
    "        else:\n",
    "            action = np.argmax(q_table[state]) # Exploit learned values\n",
    "\n",
    "        next_state, reward, done, info = env.step(action) \n",
    "        \n",
    "        \n",
    "        \n",
    "        old_value = q_table[state, action]\n",
    "        next_max = np.max(q_table[next_state])\n",
    "        \n",
    "        new_value = (1 - alpha) * old_value + alpha * (reward + gamma * next_max)\n",
    "        q_table[state, action] = new_value\n",
    "\n",
    "        state = next_state\n",
    "        \n",
    "        if done:\n",
    "            steps_per_game.append(steps)\n",
    "            \n",
    "    if i % 100 == 0:\n",
    "        clear_output(wait=True)\n",
    "        print(f\"Episode: {i}\")"
   ]
  },
  {
   "cell_type": "code",
   "execution_count": 19,
   "metadata": {},
   "outputs": [
    {
     "data": {
      "text/plain": [
       "[<matplotlib.lines.Line2D at 0x1a29124940>]"
      ]
     },
     "execution_count": 19,
     "metadata": {},
     "output_type": "execute_result"
    },
    {
     "data": {
      "image/png": "[encoded data removed]",
      "text/plain": [
       "<Figure size 432x288 with 1 Axes>"
      ]
     },
     "metadata": {
      "needs_background": "light"
     },
     "output_type": "display_data"
    }
   ],
   "source": [
    "#we can see that over the first 100 games the number of steps it takes to finish the game dropped dramatically\n",
    "\n",
    "plt.plot(steps_per_game[:600])"
   ]
  },
  {
   "cell_type": "markdown",
   "metadata": {},
   "source": [
    "### Once trained, we can see our q-table agent play the game almost perfectly"
   ]
  },
  {
   "cell_type": "code",
   "execution_count": 28,
   "metadata": {},
   "outputs": [
    {
     "name": "stdout",
     "output_type": "stream",
     "text": [
      "+---------+\n",
      "|R: | : :G|\n",
      "| : : : : |\n",
      "| : : : : |\n",
      "| | : | : |\n",
      "|\u001b[35m\u001b[34;1m\u001b[43mY\u001b[0m\u001b[0m\u001b[0m| : |B: |\n",
      "+---------+\n",
      "  (Dropoff)\n",
      "steps  13\n",
      "done!\n"
     ]
    }
   ],
   "source": [
    "def play_game(render=False):\n",
    "    done = False\n",
    "    steps = 0\n",
    "    state = env.reset()\n",
    "    while not done:\n",
    "        steps+=1\n",
    "        clear_output(wait=True)\n",
    "        next_state, reward , done, env_info = env.step( np.argmax(q_table[state] ) )\n",
    "        if render:\n",
    "            env.render()\n",
    "            print('steps ',steps)\n",
    "\n",
    "        if done:\n",
    "            if render:\n",
    "                print('done!')\n",
    "                sleep(1)\n",
    "            return steps\n",
    "        else:\n",
    "            state = next_state\n",
    "        if render:\n",
    "            sleep(0.1)\n",
    "    \n",
    "    \n",
    "for game_i in range(5):\n",
    "    play_game(render=True)"
   ]
  },
  {
   "cell_type": "markdown",
   "metadata": {},
   "source": [
    "## the problem is that with more complicated environments, we don't have such a small number (500) of possible states. so the q-table is replaced with a neural network\n",
    "\n",
    "below we define the neural network, which take in a state (an integer between 0 and 499) and outputs 6 \"q-values\" for the 6 possible actions"
   ]
  },
  {
   "cell_type": "code",
   "execution_count": 29,
   "metadata": {},
   "outputs": [],
   "source": [
    "class QNet(nn.Module):\n",
    "    def __init__(self, nA):\n",
    "        super(QNet, self).__init__()\n",
    "        \n",
    "        self.layers = nn.Sequential(\n",
    "        nn.Embedding(500,10),\n",
    "        nn.Linear(10,50),nn.ReLU(),\n",
    "        nn.Linear(50,50),nn.ReLU(),\n",
    "        nn.Linear(50,50),nn.ReLU(),\n",
    "        nn.Linear(50,6))\n",
    "\n",
    "    def forward(self, x):\n",
    "        \n",
    "        return self.layers(x)"
   ]
  },
  {
   "cell_type": "markdown",
   "metadata": {},
   "source": [
    "## define a function to choose an action based on neural network output and epsilon parameter\n",
    "\n",
    "notice I divide the reward by 20, to put it in the range between -1,1"
   ]
  },
  {
   "cell_type": "code",
   "execution_count": 31,
   "metadata": {},
   "outputs": [],
   "source": [
    "def ChooseAction(env,net,n_actions,state,eps):\n",
    "    \n",
    "    #p = np.array([eps/n_actions]*n_actions)\n",
    "    \n",
    "    if random.uniform(0, 1) < eps:\n",
    "        action = env.action_space.sample()\n",
    "    else:   \n",
    "        q, arg_q = net(torch.LongTensor([state])).data.cpu().max(1) # choose max Q and matching action\n",
    "        action = arg_q.item()\n",
    "    \n",
    "    next_state, reward, done, _ = env.step(action)\n",
    "    \n",
    "    \n",
    "    reward = reward/20.0\n",
    "    \n",
    "    return next_state, reward, action, done"
   ]
  },
  {
   "cell_type": "markdown",
   "metadata": {},
   "source": [
    "## now we define a function to play a single game with our neural network agent, and save the memory of (state, action, reward, next state) transitions\n",
    "\n",
    "note: this algorithm is much less efficient compared to the non-neural-net algorithm shown above, in order for the results to be seen quickly, we use\n",
    "\n",
    "state = env.encode(0, 0, 3, 2)\n",
    "\n",
    "at the start of the game.\n",
    "this tell the game to always start the taxi in the same position, and to always pick up and dropoff the passanger and the same pickup/dropoff locations. this simplifies things so we can train in a few minutes\n",
    "\n",
    "so the taxi starts at R, has to go to B, pickup, go to Y, and dropoff\n"
   ]
  },
  {
   "cell_type": "code",
   "execution_count": 127,
   "metadata": {},
   "outputs": [
    {
     "name": "stdout",
     "output_type": "stream",
     "text": [
      "+---------+\n",
      "|R: | : :G|\n",
      "| : : : : |\n",
      "| : : : : |\n",
      "| | : | : |\n",
      "|\u001b[35m\u001b[34;1m\u001b[43mY\u001b[0m\u001b[0m\u001b[0m| : |B: |\n",
      "+---------+\n",
      "  (Dropoff)\n",
      "steps  448 action  5  reward  1.0\n",
      "done!\n"
     ]
    }
   ],
   "source": [
    "def play_game_agent(agent,eps,render=False):\n",
    "    done = False\n",
    "    steps = 0\n",
    "    state = env.reset()\n",
    "    state = env.encode(0, 0, 3, 2)\n",
    "    env.s = state\n",
    "    \n",
    "    single_game_memory = []\n",
    "    game_total_reward = 0\n",
    "    \n",
    "    while not done and steps < 1500: #limit the number of steps a game can go on for\n",
    "        steps+=1\n",
    "        if render:\n",
    "            clear_output(wait=True)\n",
    "        \n",
    "        next_state, reward , action, done  = ChooseAction(env,agent,6,state,eps=eps) \n",
    "        \n",
    "        game_total_reward+=reward\n",
    "        single_game_memory.append((torch.LongTensor([state]),torch.LongTensor([int(action)]),\n",
    "                                  torch.Tensor([reward]),torch.LongTensor([next_state]),torch.Tensor([done]) ))\n",
    "        \n",
    "        if render:\n",
    "            env.render()\n",
    "            print('steps ',steps,'action ',action ,' reward ',reward)\n",
    "        \n",
    "\n",
    "        if done:\n",
    "            if render:\n",
    "                print('done!')\n",
    "            \n",
    "        else:\n",
    "            state = next_state\n",
    "        if render and steps < 20:\n",
    "            sleep(0.1)\n",
    "    return single_game_memory,steps,game_total_reward\n",
    "\n",
    "qnet = QNet(6)\n",
    "qnet.eval()\n",
    "play_game_agent(qnet,1,render=True);"
   ]
  },
  {
   "cell_type": "markdown",
   "metadata": {},
   "source": [
    "## we store the (state,action,reward, next state) information in a memory buffer\n",
    "\n",
    "let's define the class for that memory buffer.\n",
    "\n",
    "notice that I stored transitions with positive rewards in a different buffer, and when sampling from memory, I pick at least 1/4 of the mini-batch to have positive rewards samples. this is a simplified version of many techniques that use some variation on the sampling strategy to help DQN algorithms train faster"
   ]
  },
  {
   "cell_type": "code",
   "execution_count": 128,
   "metadata": {},
   "outputs": [],
   "source": [
    "class ReplayMemory(object):\n",
    "    \"\"\" Facilitates memory replay. \"\"\"\n",
    "    def __init__(self, capacity):\n",
    "        self.capacity = capacity\n",
    "        self.memory_neg = []\n",
    "        self.memory_pos = []\n",
    "\n",
    "    def push(self, m):\n",
    "        \n",
    "        positive_m = [x for x in m if x[2].item() > 0]\n",
    "        negative_m = [x for x in m if  x[2].item() <= 0]\n",
    "        \n",
    "        #add new memory to storage\n",
    "        self.memory_neg += negative_m \n",
    "        self.memory_pos += positive_m\n",
    "        \n",
    "        \n",
    "        #if our memory is over the max size, discard the first elements\n",
    "        if len(self.memory_neg) > self.capacity:\n",
    "            self.memory_neg = self.memory_neg[-self.capacity:]\n",
    "        if len(self.memory_pos) > self.capacity:\n",
    "            self.memory_pos = self.memory_pos[-self.capacity:]\n",
    "        \n",
    "    def sample(self, bsz):\n",
    "        \n",
    "        pos_batch_size = int( min(bsz/4,len(self.memory_pos)) )\n",
    "        \n",
    "        if pos_batch_size > 0:\n",
    "            pos_batch = random.sample(self.memory_pos, pos_batch_size)\n",
    "        else:\n",
    "            pos_batch = []\n",
    "            \n",
    "        neg_batch = random.sample(self.memory_neg, bsz-pos_batch_size)\n",
    "        \n",
    "        batch = pos_batch+neg_batch\n",
    "        \n",
    "        return map(lambda x: torch.cat(x, 0), zip(*batch))"
   ]
  },
  {
   "cell_type": "markdown",
   "metadata": {},
   "source": [
    "## now we are ready to start training our agent\n",
    "\n",
    "remember the cycle is this:\n",
    "1. genenrate some games with the existing network, but inject some randomness with the epsilon parameter\n",
    "\n",
    "epsilon parameter decays to give more control to neural network as training progresses\n",
    "\n",
    "2. save the transitions in memory while playing\n",
    "3. start a training cycle, sample a mini-batch from memory, train the neural network"
   ]
  },
  {
   "cell_type": "code",
   "execution_count": 129,
   "metadata": {},
   "outputs": [],
   "source": [
    "### hyperparameters\n",
    "\n",
    "max_episodes = 120\n",
    "n_games_per_episode = 20\n",
    "n_train_steps = 3000 #per episode\n",
    "\n",
    "mem_capacity = 100000\n",
    "\n",
    "initial_eps = 1.0\n",
    "eps_min = 0.1\n",
    "eps_decay_window = 90\n",
    "\n",
    "batch_size = 128\n",
    "gamma = 0.6"
   ]
  },
  {
   "cell_type": "code",
   "execution_count": 130,
   "metadata": {},
   "outputs": [],
   "source": [
    "env = gym.make('Taxi-v2').env\n",
    "env.reset()\n",
    "\n",
    "n_actions = env.action_space.n\n",
    "\n",
    "#create the memory buffer\n",
    "mem = ReplayMemory(mem_capacity)\n",
    "\n",
    "\n",
    "#and two neural networks (one to stay static while the other is training)\n",
    "Qnet = QNet(n_actions)\n",
    "\n",
    "Tnet = QNet(n_actions)\n",
    "Tnet.load_state_dict(Qnet.state_dict())\n",
    "\n",
    "\n",
    "opt = torch.optim.Adam( Qnet.parameters(), lr=1e-3)\n",
    "\n",
    "Qnet.train()\n",
    "Tnet.eval()\n",
    "\n",
    "eps = initial_eps\n",
    "eps_delta = (eps - eps_min) / eps_decay_window"
   ]
  },
  {
   "cell_type": "markdown",
   "metadata": {},
   "source": [
    "## this is how the epsilon decay will look"
   ]
  },
  {
   "cell_type": "code",
   "execution_count": 131,
   "metadata": {},
   "outputs": [
    {
     "data": {
      "image/png": "[encoded data removed]",
      "text/plain": [
       "<Figure size 432x432 with 1 Axes>"
      ]
     },
     "metadata": {
      "needs_background": "light"
     },
     "output_type": "display_data"
    }
   ],
   "source": [
    "fig,ax = plt.subplots(figsize=(6,6))\n",
    "\n",
    "eps_i = []\n",
    "for epsisode_i in range(max_episodes):\n",
    "    eps_i.append( max(eps_min, initial_eps*np.exp( - eps_delta * epsisode_i )) )\n",
    "    \n",
    "ax.plot(eps_i)\n",
    "ax.set_ylim(0,1)\n",
    "ax.set_xlabel('episode (a set of '+str(n_games_per_episode)+' games played before training)')\n",
    "ax.set_ylabel('eps')\n",
    "plt.show()"
   ]
  },
  {
   "cell_type": "markdown",
   "metadata": {},
   "source": [
    "## fill the memory buffer with random games\n",
    "\n",
    "only keep games that manages to randomly finish in under 1500 steps"
   ]
  },
  {
   "cell_type": "code",
   "execution_count": 132,
   "metadata": {},
   "outputs": [],
   "source": [
    "collected_games = 0\n",
    "while collected_games < 20:\n",
    "\n",
    "    game_memory,steps,rewards = play_game_agent(Qnet,1,render=False)\n",
    "    \n",
    "    if steps < 1500:    \n",
    "        mem.push(game_memory)\n",
    "        collected_games+=1"
   ]
  },
  {
   "cell_type": "markdown",
   "metadata": {},
   "source": [
    "## perform an initial training where we aim for the Q values to be just the immediate reward (without confusing it with the initial Q values given by the network)\n",
    "\n",
    "if you don't understand what I mean, look at the visualisation below"
   ]
  },
  {
   "cell_type": "code",
   "execution_count": 133,
   "metadata": {},
   "outputs": [],
   "source": [
    "Qnet.train()\n",
    "for train_step_i in range(5000):\n",
    "    opt.zero_grad()\n",
    "\n",
    "    #batch_states, batch_actions, batch_rewards, batch_next_state, batch_done\n",
    "    \n",
    "    bs, ba, br, bns, bdone = mem.sample(batch_size)\n",
    "\n",
    "    bq = Qnet(bs).gather(1, ba.unsqueeze(1)).squeeze(1)\n",
    "    \n",
    "    #normally, you would use the existing Q value given by the network to compute the next step Q value\n",
    "    #but for the intiail training we assume the next Q value is 0, this helps start the training on the right foot\n",
    "    #bnq = Tnet(bns).detach().max(1)[0] * gamma * (1 - bdone)\n",
    "    #and you would compute the loss as,\n",
    "    #loss = F.smooth_l1_loss(bq, br + bnq)\n",
    "    \n",
    "    \n",
    "    loss = F.smooth_l1_loss(bq, br)\n",
    "        \n",
    "\n",
    "    loss.backward()\n",
    "\n",
    "    opt.step()"
   ]
  },
  {
   "cell_type": "markdown",
   "metadata": {},
   "source": [
    "## let's visualize the inital training to make it clear what it did:"
   ]
  },
  {
   "cell_type": "code",
   "execution_count": 134,
   "metadata": {},
   "outputs": [
    {
     "data": {
      "image/png": "[encoded data removed]",
      "text/plain": [
       "<Figure size 432x432 with 1 Axes>"
      ]
     },
     "metadata": {
      "needs_background": "light"
     },
     "output_type": "display_data"
    }
   ],
   "source": [
    "Qnet.eval()\n",
    "\n",
    "batch_rewards = []\n",
    "batch_qs = []\n",
    "\n",
    "for eval_step_i in range(300):\n",
    "    \n",
    "    bs, ba, br, bns, bdone = mem.sample(batch_size)\n",
    "\n",
    "    bq = Qnet(bs).gather(1, ba.unsqueeze(1)).squeeze(1)\n",
    "    \n",
    "    bg = list(bq.data.numpy().flatten())\n",
    "    \n",
    "    batch_qs+=bg\n",
    "    \n",
    "    br = list(br.data.numpy().flatten())\n",
    "    \n",
    "    batch_rewards+=br\n",
    "    \n",
    "    \n",
    "fig,ax = plt.subplots(figsize=(6,6))\n",
    "\n",
    "ax.scatter(batch_rewards,batch_qs)\n",
    "ax.plot([-1,1],[-1,1],c='r')\n",
    "ax.set_xlim(-1.1,1.1)\n",
    "ax.set_ylim(-1.1,1.1)\n",
    "ax.set_xlabel('immediate reward')\n",
    "ax.set_ylabel('Qnet prediction')\n",
    "\n",
    "plt.show()"
   ]
  },
  {
   "cell_type": "markdown",
   "metadata": {},
   "source": [
    "# here comes the only part you have to do in this homework - fill in the missing parts of the code to create the training loop. \n",
    "\n",
    "make sure you understand what needs to happen at each step.\n",
    "\n",
    "after about ~60 episodes with the hyperparameters I set above should give you a decent agent that can play the game with the restricted starting conditions that are set in the play_game_agent() function.\n",
    "\n",
    "the training should take a few seconds per episode (like 15 seconds).\n",
    "\n",
    "once you finish the training loop you can submit this notebook as homework"
   ]
  },
  {
   "cell_type": "code",
   "execution_count": 139,
   "metadata": {},
   "outputs": [],
   "source": [
    "Qnet.train()\n",
    "\n",
    "\n",
    "avg_game_steps_history = []\n",
    "\n",
    "\n",
    "for episode_i in range(max_episodes):\n",
    "    steps_per_game = []\n",
    "    reward_per_game = []\n",
    "    \n",
    "    cur_eps = max(eps_min, initial_eps*np.exp( - eps_delta * epsisode_i ))\n",
    "    \n",
    "    #play X games\n",
    "    ################\n",
    "    \n",
    "    ## fill in your code to play games and save the results in the memory buffer\n",
    "    \n",
    "    ################\n",
    "    \n",
    "    \n",
    "    \n",
    "    print('episode ',episode_i+1,' avg steps per game ',np.mean(steps_per_game), ' avg rewards '\n",
    "          ,np.mean(reward_per_game) )\n",
    "    \n",
    "    #save the sate of the neural network at the start of the episode\n",
    "    #if episode_i % 2 == 0:\n",
    "    Tnet.load_state_dict(Qnet.state_dict())\n",
    "    #train the network\n",
    "    \n",
    "    \n",
    "    for train_step_i in range(n_train_steps):\n",
    "\n",
    "    \n",
    "        ################\n",
    "\n",
    "        ## fill in your code to train the NN\n",
    "\n",
    "        ################\n"
   ]
  },
  {
   "cell_type": "markdown",
   "metadata": {},
   "source": [
    "## let's watch our NN play the game"
   ]
  },
  {
   "cell_type": "code",
   "execution_count": 138,
   "metadata": {},
   "outputs": [
    {
     "name": "stdout",
     "output_type": "stream",
     "text": [
      "+---------+\n",
      "|R: | : :G|\n",
      "| : : : : |\n",
      "| : : : : |\n",
      "| | : | : |\n",
      "|\u001b[35m\u001b[34;1m\u001b[43mY\u001b[0m\u001b[0m\u001b[0m| : |B: |\n",
      "+---------+\n",
      "  (Dropoff)\n",
      "steps  16 action  5  reward  1.0\n",
      "done!\n"
     ]
    }
   ],
   "source": [
    "Qnet.eval()\n",
    "\n",
    "#eps=0 means the neural network is totally in charge\n",
    "play_game_agent(Qnet,eps=0,render=True);"
   ]
  },
  {
   "cell_type": "code",
   "execution_count": 140,
   "metadata": {},
   "outputs": [],
   "source": [
    "clear_output?"
   ]
  },
  {
   "cell_type": "code",
   "execution_count": null,
   "metadata": {},
   "outputs": [],
   "source": []
  }
 ],
 "metadata": {
  "kernelspec": {
   "display_name": "Python 3",
   "language": "python",
   "name": "python3"
  },
  "language_info": {
   "codemirror_mode": {
    "name": "ipython",
    "version": 3
   },
   "file_extension": ".py",
   "mimetype": "text/x-python",
   "name": "python",
   "nbconvert_exporter": "python",
   "pygments_lexer": "ipython3",
   "version": "3.7.3"
  }
 },
 "nbformat": 4,
 "nbformat_minor": 2
}
