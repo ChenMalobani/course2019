{
 "cells": [
  {
   "cell_type": "markdown",
   "metadata": {},
   "source": [
    "## Pong with Policy Gradient\n",
    "\n",
    "in Pong the player controls the right paddle, \n",
    "for each point scored by the AI (the in-game AI, not the player) you get -1 reward,\n",
    "for each point scored by the player you get +1 reward\n",
    "the game ends when either get 21 points\n",
    "\n",
    "the code below is taken from: https://gist.github.com/s-gv/b13974f896c7baf81ea3a83cf1af4a66"
   ]
  },
  {
   "cell_type": "code",
   "execution_count": 31,
   "metadata": {},
   "outputs": [],
   "source": [
    "import gym\n",
    "import numpy as np\n",
    "import random\n",
    "import torch\n",
    "from torch import nn\n",
    "from torch.nn import functional as F\n",
    "from PIL import Image\n",
    "import random\n",
    "import matplotlib.pyplot as plt\n",
    "from IPython.display import clear_output"
   ]
  },
  {
   "cell_type": "code",
   "execution_count": 32,
   "metadata": {},
   "outputs": [],
   "source": [
    "env = gym.make('PongNoFrameskip-v4')\n",
    "env.reset();"
   ]
  },
  {
   "cell_type": "markdown",
   "metadata": {},
   "source": [
    "## the environments supports 6 actions, but the code below uses only 2 possible actions (left and right)"
   ]
  },
  {
   "cell_type": "code",
   "execution_count": 33,
   "metadata": {},
   "outputs": [
    {
     "data": {
      "text/plain": [
       "Discrete(6)"
      ]
     },
     "execution_count": 33,
     "metadata": {},
     "output_type": "execute_result"
    }
   ],
   "source": [
    "env.action_space"
   ]
  },
  {
   "cell_type": "code",
   "execution_count": 34,
   "metadata": {},
   "outputs": [
    {
     "data": {
      "text/plain": [
       "['NOOP', 'FIRE', 'RIGHT', 'LEFT', 'RIGHTFIRE', 'LEFTFIRE']"
      ]
     },
     "execution_count": 34,
     "metadata": {},
     "output_type": "execute_result"
    }
   ],
   "source": [
    "env.unwrapped.get_action_meanings()"
   ]
  },
  {
   "cell_type": "markdown",
   "metadata": {},
   "source": [
    "## let's see the game being played by a random player"
   ]
  },
  {
   "cell_type": "code",
   "execution_count": 29,
   "metadata": {},
   "outputs": [],
   "source": [
    "state = env.reset()\n",
    "\n",
    "screens = []\n",
    "\n",
    "for t in range(190000):\n",
    "    \n",
    "    \n",
    "    next_state , reward, done, info = env.step(env.action_space.sample())\n",
    "    screens.append(next_state)\n",
    "    \n",
    "    if done:\n",
    "        break"
   ]
  },
  {
   "cell_type": "code",
   "execution_count": 30,
   "metadata": {},
   "outputs": [
    {
     "data": {
      "image/png": "[encoded data removed]",
      "text/plain": [
       "<Figure size 432x288 with 1 Axes>"
      ]
     },
     "metadata": {
      "needs_background": "light"
     },
     "output_type": "display_data"
    }
   ],
   "source": [
    "for i, screen in enumerate( screens ):\n",
    "    if not i % 5 == 0:\n",
    "        continue\n",
    "    clear_output(wait=True)\n",
    "    plt.imshow(screen)\n",
    "    plt.show()"
   ]
  },
  {
   "cell_type": "markdown",
   "metadata": {},
   "source": [
    "## now we construct the neural network that determines the action based on the state\n",
    "\n",
    "## below we will review each of its functions, so keep reading"
   ]
  },
  {
   "cell_type": "code",
   "execution_count": null,
   "metadata": {},
   "outputs": [],
   "source": [
    "class Policy(nn.Module):\n",
    "    def __init__(self):\n",
    "        super(Policy, self).__init__()\n",
    "\n",
    "        self.gamma = 0.99\n",
    "        self.eps_clip = 0.1\n",
    "\n",
    "        self.layers = nn.Sequential(\n",
    "            nn.Linear(6000*2, 512), nn.ReLU(),\n",
    "            nn.Linear(512, 2),\n",
    "        )\n",
    "    \n",
    "    def state_to_tensor(self, I):\n",
    "        \"\"\" prepro 210x160x3 uint8 frame into 6000 (75x80) 1D float vector \"\"\"\n",
    "        if I is None:\n",
    "            return torch.zeros(1, 6000)\n",
    "        I = I[35:185] # crop - remove 35px from start & 25px from end of image in x, to reduce redundant parts of image (i.e. after ball passes paddle)\n",
    "        I = I[::2,::2,0] # downsample by factor of 2.\n",
    "        I[I == 144] = 0 # erase background (background type 1)\n",
    "        I[I == 109] = 0 # erase background (background type 2)\n",
    "        I[I != 0] = 1 # everything else (paddles, ball) just set to 1. this makes the image grayscale effectively\n",
    "        return torch.from_numpy(I.astype(np.float32).ravel()).unsqueeze(0)\n",
    "\n",
    "    def pre_process(self, x, prev_x):\n",
    "        #return self.state_to_tensor(x) - self.state_to_tensor(prev_x)\n",
    "        return torch.cat([self.state_to_tensor(x), self.state_to_tensor(prev_x)], dim=1)\n",
    "\n",
    "    def convert_action(self, action):\n",
    "        return action + 2\n",
    "\n",
    "    def forward(self, d_obs, action=None, action_prob=None, advantage=None, deterministic=False):\n",
    "        if action is None:\n",
    "            with torch.no_grad():\n",
    "                logits = self.layers(d_obs)\n",
    "                if deterministic:\n",
    "                    action = int(torch.argmax(logits[0]).detach().cpu().numpy())\n",
    "                    action_prob = 1.0\n",
    "                else:\n",
    "                    c = torch.distributions.Categorical(logits=logits)\n",
    "                    action = int(c.sample().cpu().numpy()[0])\n",
    "                    action_prob = float(c.probs[0, action].detach().cpu().numpy())\n",
    "                return action, action_prob\n",
    "        '''\n",
    "        # policy gradient (REINFORCE)\n",
    "        logits = self.layers(d_obs)\n",
    "        loss = F.cross_entropy(logits, action, reduction='none') * advantage\n",
    "        return loss.mean()\n",
    "        '''\n",
    "\n",
    "        # PPO\n",
    "        vs = np.array([[1., 0.], [0., 1.]])\n",
    "        ts = torch.FloatTensor(vs[action.cpu().numpy()])\n",
    "        \n",
    "        logits = self.layers(d_obs)\n",
    "        r = torch.sum(F.softmax(logits, dim=1) * ts, dim=1) / action_prob\n",
    "        loss1 = r * advantage\n",
    "        loss2 = torch.clamp(r, 1-self.eps_clip, 1+self.eps_clip) * advantage\n",
    "        loss = -torch.min(loss1, loss2)\n",
    "        loss = torch.mean(loss)\n",
    "\n",
    "        return loss\n",
    "\n",
    "policy = Policy()"
   ]
  },
  {
   "cell_type": "markdown",
   "metadata": {},
   "source": [
    "## first let's look at the preprocessing\n",
    "\n",
    "the code turns the image to black and white, and removes the unused top and bottom\n",
    "(and then flattens the image to a vector of size 6000)"
   ]
  },
  {
   "cell_type": "code",
   "execution_count": 46,
   "metadata": {},
   "outputs": [
    {
     "data": {
      "text/plain": [
       "<matplotlib.image.AxesImage at 0x217c856a0>"
      ]
     },
     "execution_count": 46,
     "metadata": {},
     "output_type": "execute_result"
    },
    {
     "data": {
      "image/png": "[encoded data removed]",
      "text/plain": [
       "<Figure size 576x288 with 2 Axes>"
      ]
     },
     "metadata": {
      "needs_background": "light"
     },
     "output_type": "display_data"
    }
   ],
   "source": [
    "state = env.reset()\n",
    "\n",
    "for i in range(500):\n",
    "    state, _ , _ , _ = env.step( env.action_space.sample() )\n",
    "    \n",
    "fig,ax = plt.subplots(1,2,figsize=(8,4))\n",
    "\n",
    "ax[0].imshow(state)\n",
    "\n",
    "\n",
    "def transform_image(I):\n",
    "    I = I[35:185] # crop - remove 35px from start & 25px from end of image in x, to reduce redundant parts of image (i.e. after ball passes paddle)\n",
    "    I = I[::2,::2,0] # downsample by factor of 2.\n",
    "    I[I == 144] = 0 # erase background (background type 1)\n",
    "    I[I == 109] = 0 # erase background (background type 2)\n",
    "    I[I != 0] = 1\n",
    "    #in the policy network, the preprocess function flattens the image to a vector\n",
    "    return I\n",
    "\n",
    "ax[1].imshow(transform_image(state))"
   ]
  },
  {
   "cell_type": "markdown",
   "metadata": {},
   "source": [
    "## if we use the forward pass of the neural network to just provide a state, it will give us an action to do, and the probablity (under the current network weights) to do it\n",
    "\n",
    "## during gameplay, we save this (state, action, action_prob, next state) information"
   ]
  },
  {
   "cell_type": "code",
   "execution_count": 47,
   "metadata": {},
   "outputs": [
    {
     "name": "stdout",
     "output_type": "stream",
     "text": [
      "action  0  probability  0.5093664526939392\n"
     ]
    }
   ],
   "source": [
    "state = env.reset()\n",
    "next_state, _ , _ , _ = env.step( env.action_space.sample() )\n",
    "\n",
    "combined_state = policy.pre_process(next_state, state)\n",
    "\n",
    "action, action_prob = policy(combined_state)\n",
    "\n",
    "print('action ',action, ' probability ', action_prob)"
   ]
  },
  {
   "cell_type": "markdown",
   "metadata": {},
   "source": [
    "## after we play a few games, we look at the reward history, and then \"go back in time\" and compute the discounted future rewards for each time step"
   ]
  },
  {
   "cell_type": "code",
   "execution_count": 84,
   "metadata": {},
   "outputs": [],
   "source": [
    "d_obs_history, action_history, action_prob_history, reward_history = [], [], [], []\n",
    "\n",
    "obs, prev_obs = env.reset(), None\n",
    "#play one game\n",
    "for t in range(190000):\n",
    "        \n",
    "\n",
    "    d_obs = policy.pre_process(obs, prev_obs)\n",
    "    with torch.no_grad():\n",
    "        action, action_prob = policy(d_obs)\n",
    "\n",
    "    prev_obs = obs\n",
    "    obs, reward, done, info = env.step(policy.convert_action(action))\n",
    "\n",
    "    d_obs_history.append(d_obs)\n",
    "    action_history.append(action)\n",
    "    action_prob_history.append(action_prob)\n",
    "    reward_history.append(reward)\n",
    "\n",
    "    if done:\n",
    "        break\n",
    "\n",
    "# compute future rewards\n",
    "R = 0\n",
    "discounted_rewards = []\n",
    "\n",
    "for r in reward_history[::-1]:\n",
    "    if r != 0: R = 0 # scored/lost a point in pong, so reset reward sum\n",
    "    R = r + policy.gamma * R\n",
    "    discounted_rewards.insert(0, R)"
   ]
  },
  {
   "cell_type": "markdown",
   "metadata": {},
   "source": [
    "## in the plot below we see the rewards +1/-1 for scoring points, and the discounted future rewards computed once the game was over"
   ]
  },
  {
   "cell_type": "code",
   "execution_count": 85,
   "metadata": {},
   "outputs": [
    {
     "data": {
      "text/plain": [
       "[<matplotlib.lines.Line2D at 0x32598bba8>]"
      ]
     },
     "execution_count": 85,
     "metadata": {},
     "output_type": "execute_result"
    },
    {
     "data": {
      "image/png": "[encoded data removed]",
      "text/plain": [
       "<Figure size 864x288 with 1 Axes>"
      ]
     },
     "metadata": {
      "needs_background": "light"
     },
     "output_type": "display_data"
    }
   ],
   "source": [
    "fig,ax = plt.subplots(figsize=(12,4))\n",
    "\n",
    "ax.plot(reward_history)\n",
    "ax.plot(discounted_rewards)"
   ]
  },
  {
   "cell_type": "markdown",
   "metadata": {},
   "source": [
    "## given the future rewards, we can compute the \"advantage\" of a particular action, and that will be the weight given to it, to either increase or decrease it's probablity"
   ]
  },
  {
   "cell_type": "code",
   "execution_count": 86,
   "metadata": {},
   "outputs": [
    {
     "data": {
      "text/plain": [
       "[<matplotlib.lines.Line2D at 0x17d8ba320>]"
      ]
     },
     "execution_count": 86,
     "metadata": {},
     "output_type": "execute_result"
    },
    {
     "data": {
      "image/png": "[encoded data removed]",
      "text/plain": [
       "<Figure size 864x288 with 1 Axes>"
      ]
     },
     "metadata": {
      "needs_background": "light"
     },
     "output_type": "display_data"
    }
   ],
   "source": [
    "discounted_rewards = np.array(discounted_rewards)\n",
    "advantage = (discounted_rewards - discounted_rewards.mean()) / discounted_rewards.std()\n",
    "\n",
    "fig,ax = plt.subplots(figsize=(12,4))\n",
    "\n",
    "ax.plot(reward_history)\n",
    "ax.plot(discounted_rewards)\n",
    "ax.plot(advantage)"
   ]
  },
  {
   "cell_type": "markdown",
   "metadata": {},
   "source": [
    "## the next step is to compute for each (state,action, action_prob) the weighted loss, this is done internally in the neural network forward, let's break it down:"
   ]
  },
  {
   "cell_type": "code",
   "execution_count": 87,
   "metadata": {},
   "outputs": [
    {
     "name": "stdout",
     "output_type": "stream",
     "text": [
      "tensor(5.1728e-09, grad_fn=<MeanBackward1>)\n"
     ]
    }
   ],
   "source": [
    "#turn everything to tensors\n",
    "d_obs_history = torch.cat(d_obs_history,0)\n",
    "action_history = torch.LongTensor(action_history)\n",
    "action_prob_history = torch.FloatTensor(action_prob_history)\n",
    "advantage = torch.FloatTensor(advantage)\n",
    "\n",
    "#first get the network output for each of the states in the history\n",
    "logits = policy.layers(d_obs_history)\n",
    "\n",
    "# we have 2 possible actions, left and right. \n",
    "# this code creates a column of [0,1] or [1,0], based on which action was taken\n",
    "\n",
    "vs = np.array([[1., 0.], [0., 1.]])\n",
    "ts = torch.FloatTensor(vs[action_history.cpu().numpy()])\n",
    "        \n",
    "#next we take a softmax of each neural network output, turning it to probablities that sum to 1\n",
    "#and then divide by the action probablity that it had when the action was originally taken\n",
    "r = torch.sum(F.softmax(logits, dim=1) * ts, dim=1) / action_prob_history\n",
    "\n",
    "#clip the ratio between action probablities, to not make changes to the network that are too large\n",
    "#then compute the loss\n",
    "loss1 = r * advantage\n",
    "loss2 = torch.clamp(r, 1-policy.eps_clip, 1+policy.eps_clip) * advantage\n",
    "loss = -torch.min(loss1, loss2)\n",
    "loss = torch.mean(loss)\n",
    "\n",
    "print(loss)"
   ]
  },
  {
   "cell_type": "markdown",
   "metadata": {},
   "source": [
    "## now let's put it all together  \n",
    "## and start the play games / train cycle\n",
    "\n",
    "after training for a few minutes you should see the agent slowly improving and increasing the number of points it scores in each game. (this also means the games go on for longer, since the agent does not lose so fast)\n",
    "\n",
    "after you get bored of training, you can watch the agent play in the cells below\n",
    "\n",
    "in the plot that gets updated after every 10 games, you see the number of points scored by the agent"
   ]
  },
  {
   "cell_type": "code",
   "execution_count": 98,
   "metadata": {},
   "outputs": [
    {
     "data": {
      "text/plain": [
       "Policy(\n",
       "  (layers): Sequential(\n",
       "    (0): Linear(in_features=12000, out_features=512, bias=True)\n",
       "    (1): ReLU()\n",
       "    (2): Linear(in_features=512, out_features=2, bias=True)\n",
       "  )\n",
       ")"
      ]
     },
     "execution_count": 98,
     "metadata": {},
     "output_type": "execute_result"
    }
   ],
   "source": [
    "policy = Policy()\n",
    "policy.train()"
   ]
  },
  {
   "cell_type": "code",
   "execution_count": null,
   "metadata": {},
   "outputs": [
    {
     "data": {
      "image/png": "[encoded data removed]",
      "text/plain": [
       "<Figure size 432x288 with 1 Axes>"
      ]
     },
     "metadata": {
      "needs_background": "light"
     },
     "output_type": "display_data"
    }
   ],
   "source": [
    "opt = torch.optim.Adam(policy.parameters(), lr=1e-3)\n",
    "\n",
    "points_scored_per_game = []\n",
    "\n",
    "reward_sum_running_avg = None\n",
    "for it in range(100000):\n",
    "    d_obs_history, action_history, action_prob_history, reward_history = [], [], [], []\n",
    "    for ep in range(10):\n",
    "        obs, prev_obs = env.reset(), None\n",
    "        points_in_game = 0\n",
    "        for t in range(190000):\n",
    "            \n",
    "\n",
    "            d_obs = policy.pre_process(obs, prev_obs)\n",
    "            with torch.no_grad():\n",
    "                action, action_prob = policy(d_obs)\n",
    "            \n",
    "            prev_obs = obs\n",
    "            obs, reward, done, info = env.step(policy.convert_action(action))\n",
    "            \n",
    "            d_obs_history.append(d_obs)\n",
    "            action_history.append(action)\n",
    "            action_prob_history.append(action_prob)\n",
    "            reward_history.append(reward)\n",
    "            \n",
    "            if reward > 0:\n",
    "                points_in_game+=1\n",
    "            \n",
    "            if done:\n",
    "                points_scored_per_game.append(points_in_game)\n",
    "                break\n",
    "    \n",
    "    # compute advantage\n",
    "    R = 0\n",
    "    discounted_rewards = []\n",
    "\n",
    "    for r in reward_history[::-1]:\n",
    "        if r != 0: R = 0 # scored/lost a point in pong, so reset reward sum\n",
    "        R = r + policy.gamma * R\n",
    "        discounted_rewards.insert(0, R)\n",
    "\n",
    "    discounted_rewards = torch.FloatTensor(discounted_rewards)\n",
    "    discounted_rewards = (discounted_rewards - discounted_rewards.mean()) / discounted_rewards.std()\n",
    "    \n",
    "    \n",
    "    clear_output(wait=True)\n",
    "    plt.title('iteration '+str(it))\n",
    "    plt.plot(points_scored_per_game)\n",
    "    plt.xlim(0,700)\n",
    "    plt.ylim(-1,21)\n",
    "    plt.show()\n",
    "    \n",
    "    # update policy\n",
    "    for _ in range(5):\n",
    "        n_batch = 24576\n",
    "        idxs = random.sample(range(len(action_history)), n_batch)\n",
    "        d_obs_batch = torch.cat([d_obs_history[idx] for idx in idxs], 0)\n",
    "        action_batch = torch.LongTensor([action_history[idx] for idx in idxs])\n",
    "        action_prob_batch = torch.FloatTensor([action_prob_history[idx] for idx in idxs])\n",
    "        advantage_batch = torch.FloatTensor([discounted_rewards[idx] for idx in idxs])\n",
    "        \n",
    "              \n",
    "        opt.zero_grad()\n",
    "        loss = policy(d_obs_batch, action_batch, action_prob_batch, advantage_batch)\n",
    "        loss.backward()\n",
    "        opt.step()\n",
    "    if it % 5 == 0:\n",
    "        torch.save(policy.state_dict(), 'params.ckpt')"
   ]
  },
  {
   "cell_type": "code",
   "execution_count": null,
   "metadata": {},
   "outputs": [],
   "source": []
  },
  {
   "cell_type": "code",
   "execution_count": 19,
   "metadata": {},
   "outputs": [],
   "source": [
    "policy.eval()\n",
    "\n",
    "screens = []\n",
    "\n",
    "obs, prev_obs = env.reset(), None\n",
    "for t in range(190000):\n",
    "    #env.render()\n",
    "    \n",
    "    d_obs = policy.pre_process(obs, prev_obs)\n",
    "    with torch.no_grad():\n",
    "        action, action_prob = policy(d_obs)\n",
    "\n",
    "    prev_obs = obs\n",
    "    obs, reward, done, info = env.step(policy.convert_action(action))\n",
    "    screens.append(obs)\n",
    "    \n",
    "    if done:\n",
    "        break"
   ]
  },
  {
   "cell_type": "code",
   "execution_count": 20,
   "metadata": {},
   "outputs": [
    {
     "data": {
      "image/png": "[encoded data removed]",
      "text/plain": [
       "<Figure size 432x288 with 1 Axes>"
      ]
     },
     "metadata": {
      "needs_background": "light"
     },
     "output_type": "display_data"
    }
   ],
   "source": [
    "import matplotlib.pyplot as plt\n",
    "from IPython.display import clear_output\n",
    "\n",
    "for i, screen in enumerate( screens ):\n",
    "    if not i % 5 == 0:\n",
    "        continue\n",
    "    clear_output(wait=True)\n",
    "    plt.imshow(screen)\n",
    "    plt.show()"
   ]
  },
  {
   "cell_type": "code",
   "execution_count": null,
   "metadata": {},
   "outputs": [],
   "source": []
  }
 ],
 "metadata": {
  "kernelspec": {
   "display_name": "Python 3",
   "language": "python",
   "name": "python3"
  },
  "language_info": {
   "codemirror_mode": {
    "name": "ipython",
    "version": 3
   },
   "file_extension": ".py",
   "mimetype": "text/x-python",
   "name": "python",
   "nbconvert_exporter": "python",
   "pygments_lexer": "ipython3",
   "version": "3.7.3"
  }
 },
 "nbformat": 4,
 "nbformat_minor": 2
}
