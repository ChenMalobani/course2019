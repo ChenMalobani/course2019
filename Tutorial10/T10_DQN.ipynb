{
 "cells": [
  {
   "cell_type": "markdown",
   "metadata": {},
   "source": [
    "## Breakout with DQN"
   ]
  },
  {
   "cell_type": "code",
   "execution_count": 2,
   "metadata": {},
   "outputs": [],
   "source": [
    "import gym\n",
    "import numpy as np\n",
    "import torch\n",
    "from torch import nn\n",
    "from PIL import Image\n",
    "import random\n",
    "import torch.nn.functional as F\n",
    "import torchvision.transforms as T\n",
    "import matplotlib.pyplot as plt\n",
    "from matplotlib import animation, rc\n",
    "from IPython.display import HTML"
   ]
  },
  {
   "cell_type": "code",
   "execution_count": 3,
   "metadata": {},
   "outputs": [],
   "source": [
    "env = gym.make('Breakout-v4')\n",
    "env.reset();"
   ]
  },
  {
   "cell_type": "code",
   "execution_count": 4,
   "metadata": {},
   "outputs": [
    {
     "data": {
      "text/plain": [
       "Discrete(4)"
      ]
     },
     "execution_count": 4,
     "metadata": {},
     "output_type": "execute_result"
    }
   ],
   "source": [
    "env.action_space"
   ]
  },
  {
   "cell_type": "code",
   "execution_count": 5,
   "metadata": {},
   "outputs": [
    {
     "data": {
      "text/plain": [
       "['NOOP', 'FIRE', 'RIGHT', 'LEFT']"
      ]
     },
     "execution_count": 5,
     "metadata": {},
     "output_type": "execute_result"
    }
   ],
   "source": [
    "env.unwrapped.get_action_meanings()"
   ]
  },
  {
   "cell_type": "markdown",
   "metadata": {},
   "source": [
    "### let's see the game being played by a random agent\n",
    "\n",
    "this might take a while, if you want to see enough random games"
   ]
  },
  {
   "cell_type": "code",
   "execution_count": 6,
   "metadata": {},
   "outputs": [
    {
     "name": "stdout",
     "output_type": "stream",
     "text": [
      "played  3  games\n"
     ]
    }
   ],
   "source": [
    "state = env.reset()\n",
    "\n",
    "games_played = 0\n",
    "screens = [state]\n",
    "\n",
    "for step_i in range(1000):\n",
    "\n",
    "    next_state, reward , done, env_info = env.step( env.action_space.sample() ) \n",
    "    \n",
    "    \n",
    "    \n",
    "    screens.append(next_state)\n",
    "    \n",
    "    if done:\n",
    "        games_played+=1\n",
    "        state = env.reset()\n",
    "    else:\n",
    "        state = next_state\n",
    "\n",
    "print('played ',games_played,' games')"
   ]
  },
  {
   "cell_type": "code",
   "execution_count": 7,
   "metadata": {},
   "outputs": [
    {
     "data": {
      "image/png": "[encoded data removed]",
      "text/plain": [
       "<Figure size 432x288 with 1 Axes>"
      ]
     },
     "metadata": {
      "needs_background": "light"
     },
     "output_type": "display_data"
    }
   ],
   "source": [
    "fig = plt.figure()\n",
    "ax = plt.axes()\n",
    "\n",
    "im = ax.imshow(screens[0])\n",
    "\n",
    "def init():\n",
    "    im.set_data(screens[0])\n",
    "    return [im]\n",
    "\n",
    "\n",
    "def animate(i):\n",
    "    im.set_data(screens[i])\n",
    "    return [im]\n",
    "\n",
    "\n",
    "anim = animation.FuncAnimation(fig, animate, init_func=init,\n",
    "                               frames=200, interval=20, blit=True)\n",
    "\n",
    "anim.save('breakout_animation.mp4', fps=120, extra_args=['-vcodec', 'libx264'])\n",
    "\n",
    "#plt.show()"
   ]
  },
  {
   "cell_type": "code",
   "execution_count": 8,
   "metadata": {},
   "outputs": [
    {
     "data": {
      "text/html": [
       "<video width=\"432\" height=\"288\" controls autoplay loop>\n",
       "  <source type=\"video/mp4\" src=\"data:video/mp4;base64,AAAAHGZ0eXBNNFYgAAACAGlzb21pc28yYXZjMQAAAAhmcmVlAAA0eG1kYXQAAAKgBgX//5zcRem9\n",
       "5tlIt5Ys2CDZI+7veDI2NCAtIGNvcmUgMTUyIC0gSC4yNjQvTVBFRy00IEFWQyBjb2RlYyAtIENv\n",
       "cHlsZWZ0IDIwMDMtMjAxNyAtIGh0dHA6Ly93d3cudmlkZW9sYW4ub3JnL3gyNjQuaHRtbCAtIG9w\n",
       "dGlvbnM6IGNhYmFjPTEgcmVmPTMgZGVibG9jaz0xOjA6MCBhbmFseXNlPTB4MzoweDExMyBtZT1o\n",
       "ZXggc3VibWU9NyBwc3k9MSBwc3lfcmQ9MS4wMDowLjAwIG1peGVkX3JlZj0xIG1lX3JhbmdlPTE2\n",
       "IGNocm9tYV9tZT0xIHRyZWxsaXM9MSA4eDhkY3Q9MSBjcW09MCBkZWFkem9uZT0yMSwxMSBmYXN0\n",
       "X3Bza2lwPTEgY2hyb21hX3FwX29mZnNldD0tMiB0aHJlYWRzPTYgbG9va2FoZWFkX3RocmVhZHM9\n",
       "MSBzbGljZWRfdGhyZWFkcz0wIG5yPTAgZGVjaW1hdGU9MSBpbnRlcmxhY2VkPTAgYmx1cmF5X2Nv\n",
       "bXBhdD0wIGNvbnN0cmFpbmVkX2ludHJhPTAgYmZyYW1lcz0zIGJfcHlyYW1pZD0yIGJfYWRhcHQ9\n",
       "MSBiX2JpYXM9MCBkaXJlY3Q9MSB3ZWlnaHRiPTEgb3Blbl9nb3A9MCB3ZWlnaHRwPTIga2V5aW50\n",
       "PTI1MCBrZXlpbnRfbWluPTI1IHNjZW5lY3V0PTQwIGludHJhX3JlZnJlc2g9MCByY19sb29rYWhl\n",
       "YWQ9NDAgcmM9Y3JmIG1idHJlZT0xIGNyZj0yMy4wIHFjb21wPTAuNjAgcXBtaW49MCBxcG1heD02\n",
       "OSBxcHN0ZXA9NCBpcF9yYXRpbz0xLjQwIGFxPTE6MS4wMACAAAAKEmWIhAAr//72c3wKa0czlS4F\n",
       "dvdmo+XQkuX7EGD60AAAAwABqtOyDKVEPwIn+qz2v9m7Mv9BOjIHAH2VTjrQOy+OVbDnxxHxh84q\n",
       "6J6JAAB6pE3yabMI4+X5dQA8wNhRe4w4Kt9GYhlnQ877wcrer7tv2Hyof2myaDxfEjVe3ZRctl7q\n",
       "HHKTaPSLB+QCS6eEceyQ9Pl7L6iJ6MqEee09pO91vwyfzVLdYByJyXvmK9u/4iehgey/PKzqbohW\n",
       "E9ONiszHeAMoEG8fW+eKEEKkSOsDRhzjWcdxu+CI7oFqT6KFyX/LgXxWlJ8cNWT2h17cCi1e1M+6\n",
       "j8KGxrzN11Z/OTz1a7cGMb6aIZg0pfAvn1Ca2RT/e9aOqNkoQnO+W+4bcNpBY5kPh+UWVfteBsEc\n",
       "sWwVkQ6YtPMJdqjxrRBeTDJly5jn3A+WnqBffGhCxNuBiRo5q1PlO+3Kgj1gYjJLTFrbp5GZ5PD2\n",
       "gidYxgI9NikVn1OCEjDEnYAnB9sdB/XBO58f4r2mHXsvsK5N284ofcHgHez2BsYWaxhYvkUqCYvU\n",
       "fIgfdnefYYhoFZG3Xxb0A0VlET+skiUUMSN8BB6BeQkOsiZVYAestcAGem882nAeS/+zNTzEV3cv\n",
       "8kw7gWf7u+jRrhKj0AqJMyF6x3qFxj+MwoRdwDvyDehgWDeMhHsrhVA7onL+gU2Z2I1uKy/tEDep\n",
       "3TKMdqil9DB+5TuyiaYVp2+ZAPUWoP0ufxHs5Ei8wegKr78BCQF73I3o1Cc13+CW+Y/eVc046QiY\n",
       "AxBaskfnQcWRyB9StgZj+kAmxmNty2ZGvz78dIsKHeofS7ybiAymaT/01XllrVxzrqR0G6f0o+Wp\n",
       "hlgYxDnIajvxsw7+i9t3pj71y5o7RG/06YmP/J1LNQM7QayX4jp95FYRyIxoPiwOH8cpebt1orA2\n",
       "uhzjVza3/Il66A9nrR57EpzSiUbB3rxn9cF0MQD+iMqjaV/X9/aWbSj2iSPNIN99x5aHFWsQNGUC\n",
       "2Oswh0ke1TMUrPA+kCAAH5EwyIAKtFB8XIclHKowCo+4kXLN0aBx2TLIRcYi2ScitSBQD6knF1gY\n",
       "2QC4xveTJOAzjKBNPlofBbXEhpR5d3XkrsIp6AmjHsheheALTmAEFvvKYRWXSUxjj91xaSLHOsow\n",
       "BcIfB7kQj0inDWN7DdzJeju9NRT5qKxq9BGFNxgM/eX3+DFNL0lPQUIhaSo/oAZG11Mj0Gk0Bl9x\n",
       "FXbQBDlezx9vXFiXr8rRsxx9E9bcqA2vCJYz4ZCw0MX8598c3oyuwzHMSc+QxCmIHNR+0NhpdJGB\n",
       "QJR2ZKSLdwZgs7znGQF1dbEvimQIjMpGYhZR0bpBvzK5ihbQz7vxdGtDU4jmerR0GXgEmZB+VBx5\n",
       "Fs8A1uGj3+nPfn4qkXmpNlShGetL1oce+Dms25io9Ltod/GUGSDeUyma3YWZ2LXXHLpXepMMFkQe\n",
       "yPbrwhGb2nyn9RUBjCNAowcFMGALHCtj5jEt6jmzAV9LJVUSPg3ftYK+TJNsNoD2W6dFK9y/FC+p\n",
       "68Z7amX9fzQss9CIbhuIJQIGBqg01owWP14pvfKovx0IKUsMlSSsQwFgGDRPZRVUZuGA7tQI2tIl\n",
       "i5c3Fl+aFsIA0dOJZWHoO7ETJNz7SmkeDejneRLsXV9xjJcI66WAPrPxcs6YAcI20x2esD2UX2Rn\n",
       "VJaxBqTkRvCTZOnn562kSsJmVFq2sEy702Kya1yU9JqrOq5iRMkXkb4uKeCvlTRHGegQg1dq5kTj\n",
       "GVk7Zx/8NuYlNvkW72KNu9YCeRSTRVTKgm5Htup5yCP9D7VT9raIBDRPqYZrsNg7CdoOt2gFb++g\n",
       "sPJ4SG7D9bcBs/yQoLc1yuVxoAlXQqXk7Rg5gNIBCFrPBaZO2sNg5ymYyIKiQqYAoH596LYU2aRX\n",
       "2JhXmPli0jFOe3y9varM38FP13WRwozfic6eylkFFTAgJxLYJ8iSgZonrjmEh7mQZEXJ2/zfn2ZS\n",
       "IySXpx8wia27SA+p2YwvoTNVjXsYQNLXGm633ioi2ABHCPepIqeQWw/txwAzmHls3ehBC31+JK96\n",
       "llx4bF+6xdvdSriOC1QaDBaQNSgjq1+HAoH+iT4DblAMK0d0Z+G35EPLfR+v/Be1p1mGndp/uHoh\n",
       "0DCr18uTKobPmXhP5qOMhTVYjD+D2EISqip3i/GVxdAZvlnWUhxgoV3Ly/QteNFundSRn/wMvS82\n",
       "wK3QH4FFGx9aQ+vzO3C0tVej2/Fy2uhtJNETag56BLUJZxo8ckGjyJVwkr2c7nPTjdy1K1vvRU/B\n",
       "frRam1/HFv0xPr0Ari7OKgabJI1L7WutUtAeA+86UuAsCs3mb+MWs2d2SL/12/9D81xT8E/vj+mp\n",
       "FkdHHnTyM4IrxJLQih0rVHAQjeEsBq1tBPuGCsFHWTOcYJD8+f7xlYn0f62OTJzeS3CtTbR84zfS\n",
       "ttkk+ZysQLrImGBmmCMpxnr8RHOrtknK3RfdVAADsYtynwV5eoGOHe7JZ6PymD2l2KFvAkItir/a\n",
       "AHRpU647FoCZeUJeIQAa17DS+ELTKm5cUU6SINKC8zPdM8NjwJa2ABKKOfV4sLDRUYrpg9/C0OBZ\n",
       "rtgwxmkX08OuSpK2dwr/QdhqpZhcclJ/WiQs1wI+qYu4C7S7ODFar+o+o12NC6xO1/i/X18bzTJb\n",
       "5e9T0Wm7w2zZHokCE1KRjCAAR3MfT1ma6Skqiu1ty+MUhg4HZB4kHEj9UlOwZHFvBgBN+yGAejp+\n",
       "R4URRS/DZvKz7sPbCeODwEaL+Vo3QLrWhqSaX7Yi0aWDLckfxIsSI68lUw2oP+2VMdgCGpmCojRB\n",
       "ehzMz9nIoD+EDbKIq9oSebp62+uMYPdV9H83aCl11h9Jj5Zh3/I76yjV3yfHnNSpyGYYtqyzjrwV\n",
       "W3SN3+L231k+jRhVXBWJ9ayuayW+GODpn+Rdz9cJJITU2GzNwLk2b4R+nWTeIBofRb+wj1XjWikV\n",
       "XelRuv4bY2Pz4ka1pK6nNVXZ0v2Ef0FvIB5n8P14IT6sMaCpjSTI9JuxJnNpTSViBIydT7WJWiqd\n",
       "4AqqAoF8BqFZyKerXN3Xeh9EPepU4zFM5+OAxNHMfndRheiF3Ed+hnKyZX82HaxJjoh61RztMRTi\n",
       "WRfwGOptSPCKhKhHRMxt0jPj1tZqK/d/djZ/6OXApibtwBsIpEd6HKsHXBnmLtb5pNgOD1cxuxI9\n",
       "y9TTXZZOdIt+ZtSaLMDxibO85m/JjKI3RsibE12u1eboextjAy4x/t9ifbT3F5MAhP70eZ0npxrJ\n",
       "HwIe2d6SbWXsSF1U0dyaNKdYoBF5xyPsiJh4ZyQUjXtSzMzGnCsLrHYnFAdGht5zNY73kUdjzp+g\n",
       "W0mXEMkj4dwUAfU0+8Nm2/JGsvm0+ee3JDv0v8kZvkVmS0TtlNaiquBw7IGuAAK1d0LB448AAAFI\n",
       "QZohbEL//oywEY5/WXVBZAGfPoV28rC+P4FAfsLJf8//aHps2vCHnjh3wm/ZANmeCpfe+eQaqo5R\n",
       "WvyCg98KDXmO2y+40Nx+oRY9wf7W5HPabVCb/Rvh5HTCxGWy1T2JY3pdLH19GAKgxLcHHYPgv937\n",
       "k4F9MK/6wEGZn2FPQIsZmZFeWxj4CdRVyEEzXm9qaHcy+2u8VDCik9w8YPbG9YvW4oQnCZYP54wX\n",
       "C7Uh9ivJykIQHbiB0exiZY+jH66SCiLkM9yYIc/mlRKhyIMuv7/epPwX1dAP3ePC/ui2FXkAVfzq\n",
       "crCed21jp3zsjcDwJ1j2xHUnLqgshumrveEngWstrmtXNdxSSkF+Ho0FNcxjFJ5MR6t+jhB6jkRu\n",
       "4PnzOgQ3RhDx/HdDWdMwO3F7Dn5MU8F8hoj49UTzUAiIQQtLc8ZDkyFSYAAAAHhBmkQ8IZMphC//\n",
       "/oywBYRO5gB0QvYDEm/vvakOa0s5SPLa++VDtvrkRyAN4bs1FeO7DOSCnPZER8bqK+IuzM+hqo+a\n",
       "0YdqeG2+su4SSuC3Ir4B1uPodVeG0Dst3LIyeV5mCGGljkJJxZhVdSYggkPyFXxnkEh3x/EAAAA/\n",
       "QZ5ialPCPwByw2ETAJyauOfUENetdM3OrHgRSb47iVwylcmfJs4G9xvi36Da4DZ6W+kDo1czzEbi\n",
       "tp4HWnOYAAAAJQGeg2pH/wC6ZhIJrpsLDad10BqLwQKgpASKXNKTpPS/igbuqs8AAAB4QZqHSahB\n",
       "aJlMCF///oywAW36m/Wx0gUJ0+sGY8AAueWHnvb0XYOabzZ5zzFmgr2YMfpmWnyPBTwH3Bs/fLFe\n",
       "Q3JPYbmP4MQjBarVXZkIZT1nzoZaWAJqPoNGrWDG+K6PegBWwaQVhMN+V3EGqIAIMmTaR9A1eP5h\n",
       "AAAAP0GepUURLCP/AHP/oxSmxOVcgA4jwRb0peihvdyFj2/cGatTr1c0wDHAhZgF0nSsASe5TulU\n",
       "V/x7hJkpZdVF3wAAACMBnsZqR/8AVm4wBZIscSDzaVvxh7vADL2iV5QhJ91H2JtpwQAAAE1BmslJ\n",
       "qEFsmUwUTC///oywALNvj6wXBqADZw132vn45Z2SrcjUH1hK917Ha/tKBEPadp2zNUtckZ/9XPFL\n",
       "0ddi0kiQBE+eee91pavieAAAAB4BnuhqR/8AVBQC0IxrhQqceaij7FY2aR/cL797KqAAAABTQZrs\n",
       "SeEKUmUwIV/+OEACo7t8sHDPABc7vGvgoe7J+UTrP8t4NZKjc6TcGnqd19+PU/4nl9Paj+9f3qjp\n",
       "HVJYSBzl4HkmIQ7h8xDLw3PgnjKTNx0AAAA2QZ8KRTRMI/8AHFttEYXG/PgARkF0aUFXQF7X+eAB\n",
       "U2O30yogu+p9QQprICNQQCx5M2NG0gGAAAAAJQGfK2pH/wAteayoLx+1A7KAIH6pC8aNPzTDryRN\n",
       "CeMlj/75iiIAAAA0QZstSahBaJlMCFf//jhAAqO7fLBwzwAXO7xr4KHuyflE608w972c96Uq5XLT\n",
       "C4dLgryw1wAAADVBm05J4QpSZTAhf/6MsAC3/Do/P6ZWU4zGL3h1E1jv/JOFD6AUuN2UvA9pxaj3\n",
       "qNEx2ZVwYQAAADBBm3BJ4Q6JlMFNEwv//oywAAFm9y5Pd0ALjDyh9hfhRuKEs9BiH6EvkXlvIniY\n",
       "/E0AAAAUAZ+Pakf/AAC1poahqYBrfNM+qUAAAAAZQZuRSeEPJlMCF//+jLAAAVuoGOABJSVlMAAA\n",
       "ADRBm7VJ4Q8mUwIX//6MsAABXfc0PZKr+owAQ00EwnUOdbP2EY1GMuWb5EEtV/zCT4BbL6vhAAAA\n",
       "LkGf00URPCP/ABywsVCgpiB0+AHG015ZHDkd+As+52VuIiBHp4VwxW/5n+/91/AAAAAXAZ/ydEf/\n",
       "AACxavhVWF+AVOqJOpXn26AAAAAVAZ/0akf/AABYktob4TACxP4Rzh3lAAAALUGb90moQWiZTBTw\n",
       "v/6MsAAAqnuaHh/rkAAPI/AnYS+wf2+9VlWDlo82EjIPdgAAACUBnhZqR/8ALqQRHMPHAAEdDPlI\n",
       "x6ydKv212KX/0rnGdBMAJ3yBAAAARUGaG0nhClJlMCF//oywAABds3hgBNMqNILOb+0MnN0MECxa\n",
       "1VXj4vW4mORI40Q45YFTIzbh2mD6CPj3F9XuBde90clF0QAAAENBnjlFNEwj/wAdC20AKkkgOBXp\n",
       "XPwAuouN+X1J9odhhyPC/+lnnmqBOHfDEUOQtskxWcPICbaHxzlKPoleuQxNDpxoAAAAGgGeWHRH\n",
       "/wAAVkXiBW7hJjlQ0W1vQq2tAY5lAAAAMAGeWmpH/wAAVnNt6Sf8QAlUjVNFkXrXfVjlQM0yWuSh\n",
       "AdcU5b39z3/W+3StkpyDwAAAACdBml1JqEFomUwU8L/+jLACl7w74Ja/IQz/HuUzA8ZvZJyaO2HC\n",
       "/YEAAAAXAZ58akf/AC6kERzKNe1h/OvWM9cGDlEAAAAaQZp/SeEKUmUwUsL//oywAABd2G5CsXNI\n",
       "1mwAAAAQAZ6eakf/AAAv0lGdUDKw1gAAACdBmoNJ4Q6JlMCF//6MsAKWhBbkTt62/lxNyIYUdk+n\n",
       "wty3CDtWOaUAAAAUQZ6hRRU8I/8AHLCxT83+vg7Uu9wAAAAZAZ7AdEf/AAAv3GTIAJ26F62B7Rgy\n",
       "8H4EMQAAABEBnsJqR/8AAC8lyVz7ijlMTAAAAJNBmsdJqEFomUwIX//+jLAFDw/+EYjFAioA5RpN\n",
       "kUH/Ktjgf4Hz2Lcg3YH9nz22BMOtHEup4o8CtUGQa9Dx7UviaM3bxV9cM+/NzOe2V2Ia4vFDI6nE\n",
       "JNkQSSrNQuxKzMRqEnsFKxwEBrxqjlvT3d3qzuNJA/pa/tZzrlIRjC14LDLPB+exxeUjFhyWAdS/\n",
       "zbsZ4g0AAABLQZ7lRREsI/8BnCmrLDNyoK8ulJLDTADgBvacVDmqVoJGJEG4w1QuMZld3Vg1e39g\n",
       "akZ4+/+ypiEPeo80KtkCGS6+EUejWRKCmpWxAAAAHQGfBHRH/wKMLe0CN/jfRzOmAE0uWiORtQz1\n",
       "Y46LAAAAGgGfBmpH/wCoZrFzhfJo/g8RznAaGQixC3F5AAAAL0GbCEmoQWyZTAhf//6MsAUF7dEA\n",
       "cv6i6QPViNHW5PaqWrjXNOoVAt5VyTjL7/dAAAAANUGbK0nhClJlMCF//oywAATH4nP2S/4yZubA\n",
       "BOoGtfgxZ99jzDfo69Rm/3FyuDSpeEs7B4yAAAAAHUGfSUU0TCP/AB0LbQ4TIQdEh+oCmy0pINxH\n",
       "pnKBAAAAHQGfampH/wACfZcy7vW6ku0tSUD6WdCAZfX3M8qAAAAAOUGbb0moQWiZTAhf//6MsAAC\n",
       "c/E5+yX/GTNzYAJ1n8vhtV4jbv1AzOI3p9YeiPOw6ggk7evKoRqPmAAAAEdBn41FESwj/wAdDcgM\n",
       "ByaoArUiD8dGD7Nf7J6I7Zir/osZ9UMjZFWJ1J+ukvP0VzG+t9volM/81tMIVZBjTgL0wn3fHiah\n",
       "IQAAACEBn6x0R/8AAT3RnV7HNDwAjD/dKaA2D+RPoUjVqxYenl0AAAAqAZ+uakf/AAE+TT6ZPNYA\n",
       "CKqoEbkSNwydD2ahYMjeWBF/NrAfiBrw9B/NAAAAK0GbsEmoQWyZTAhf//6MsAACYI4H2miR2ZWH\n",
       "/Q1B0kmaIco6MOkTtrUGekAAAAAyQZvTSeEKUmUwIZ/+nhAAWP4ewAbsJaLz2HKt1Y8JXEUcp9eI\n",
       "XQTHRH9pW+t27SnHRXQAAAAfQZ/xRTRMI/8AOLEkrxu1jCMZikMumby0D/+W0KKq5wAAACkBnhJq\n",
       "R/8AWvNYe7DWZZKbzgABwBSOjvx7lsYlc6QubVmM6e++qQLEOAAAAG9BmhdJqEFomUwIZ//+nhAA\n",
       "sPqzRHwSSGOuzqchCWxLKe1aACEWTVc27MO2s3yTzv1zrg7VOHgy0Uj0KNN8MrdvEfOywYs5UqVY\n",
       "z7rJT5kSFuF6uCrVjPjpIEUqcZJkz6EAjVevUEG346z/1GkwnMAAAAA0QZ41RREsI/8AOKBRfZWt\n",
       "P+IcttYAZqN6RSI0k5ImAiusbzgJQBtc06tMoqCR+2Agev2MSQAAACUBnlR0R/8AWsXIxAfUumS1\n",
       "5EAG33/q6DvVfSC+MsoGLDM0YG+AAAAAIQGeVmpH/wAAVnLmXgRXwYAOBn5iXMub0u9M47wsyduS\n",
       "gQAAADpBmltJqEFsmUwIX//+jLABQvjq+e895KF81jYAEx5SHfe95pE0YwdrGQjLyLWmfkedysHU\n",
       "V9KdLcQnAAAAKUGeeUUVLCP/AB0NyACDl7iAG1G+04qHNUrQSMR2pTmmgiEqRHFkuCegAAAAKgGe\n",
       "mHRH/wAAWLzm2AAEe52Ukb/5hznlfBAahc11bVrIv82o6jjkFj7z8QAAADIBnppqR/8AAFeeGSAG\n",
       "xJ2sJymNTKvWqeQs1ZUp1wvIUHQwE5IEXJecnbd4VeGl35pzzgAAAIBBmp9JqEFsmUwIX//+jLAA\n",
       "UpmFWlPtL0wlZ2gAhMpSEeq8RY7+gI5HAzxBGjVudYhtn/RbAxOqZbkswNsuuynC2nATvKGwhORF\n",
       "wfNfoT8Zo8XArovxQNfuellY49Jgqm7tPPOWz2Bgj+3cZZ5gdOe9rhdOnMBSev94TslMJzcG/wAA\n",
       "ACpBnr1FFSwj/wAdDcgFht7qnABuWHb8yF+MDGQz2gA6lzcNflvdhDQYiIkAAAAcAZ7cdEf/AAC1\n",
       "6A2apbyLiAAF58Kbea74EhvexAAAACQBnt5qR/8AALplUUclrsAAG/rxAl9B1nzBA+koL7GhEod2\n",
       "4O4AAABDQZrDSahBbJlMCF///oywAFKDTVvsPKQAAlhd3wTc+VPOQUZCe0KJgGQDmQQfpFKdLwFo\n",
       "3kcD/+5+n6K7BxZKbyOqwQAAADJBnuFFFSwj/wBjgHCFjd7EMcPsYBQX+scPhiN0JPdSaZlqHYgE\n",
       "EooMZQWUfP1ztQkw4AAAADMBnwB0R/8AnwuR8viu35xgAIT6uKUqJVt5vRBL87ilinb11iKAyNz4\n",
       "cBe4WpcGTZaJW/0AAAAbAZ8Cakf/AJ9msSEVCoNm3fJZiSjacehb2xpwAAAAN0GbBkmoQWyZTAhf\n",
       "//6MsABSg0xueVveAAuzclUkzLtiPYUlUSxaneSNlPaCeYmnn1TuGNIWhvEAAAAsQZ8kRRUsI/8A\n",
       "ZLeCemURhPRdvKACG6pPQ7+xhVXscaMTpQsHJMV6Mrb3U3kAAAAyAZ9Fakf/AJ9msb0qCgBMv2s1\n",
       "oIHzRP0gqX0mV0teQ8Ci0Sph4q1/0cZZhAI7Llez5YcAAABKQZtJSahBbJlMCF///oywAFJ+zb//\n",
       "LHn8Hd+0ZdWLAAEtW1GO5PPFZGLu3XrqNAPeUwy0OQG761ZdKl16O9TOWTwaZC4KDAVgHoEAAAAe\n",
       "QZ9nRRUsI/8AZLeCemURf9UDjaUR8V+8yCs0sanBAAAAGwGfiGpH/wCfZrG0+O0OA4AM2j26Etix\n",
       "h7fLQAAAACdBm4tJqEFsmUwUTC///oywAFKZhVzeKbIWwwoE6jOigU86uDHCOkcAAAAgAZ+qakf/\n",
       "AJ+QSeiqQimlccnAAf4YfJ5a0s+VfkWtp0AAAAA/QZuuSeEKUmUwIV/+OEABPmdwfHUTQB5NGSyq\n",
       "vCuxmS1CfQouPne0FS2EfzvbonqlqPA/e3AtNFZp63XcvdRAAAAAI0GfzEU0TCP/AGSvnV3sJroV\n",
       "shIsRLnOnC1HGTowFVw3KMGBAAAAJQGf7WpH/wCfZrLgVO2upABtNcAHviz16IGNdmEuEf1KhkE9\n",
       "H30AAABCQZvvSahBaJlMCFf//jhAE91uM/B2IB74RqAPKLtkqXbwUukW0VuBS5SFURh1LieLnHZH\n",
       "SviyHQiQTTyuq75i1Q7BAAAAQ0GaEEnhClJlMCF//oywABUsVBAMd+l8yz/C5OE4rRVgvEqUq7BH\n",
       "qvEWO/oCOR2fU+QzjoIvshlf2rYNadZD1gTYB+AAAABRQZoxSeEOiZTAhf/+jLAFLhnjAgfwcpNi\n",
       "P1tO3yjCS/fajO/0GWfJjWpG+C8nUR2RFxOR+4UMH/5ISseesD4xJmD9ltES/JW6KhMr8Zxdrdng\n",
       "AAAAOUGaVUnhDyZTAhf//oywABUs83gAM3fqnMRKNMxOAgtDnPqmyjrh44hjNa+qs3/zb57yPGsJ\n",
       "dHEhEQAAAEtBnnNFETwj/wAcsLFhmhtgBLNMY5n/hOIJJISP023/7NayEo8962Gj3Ozm8nDTEF2C\n",
       "6bXx56FDx7VssyLzA6lsEnaSWnAybA/NN/gAAAAiAZ6SdEf/AAsX+rgAlkO7txblnseyW14ssJVP\n",
       "CrRT2xkABQAAACQBnpRqR/8ACxJwVNAABLVYGVaI4ZFNR8hW24RPsdtlqxggn+EAAADNQZqZSahB\n",
       "aJlMCF///oywBVZTL1HB2pTnYAdA0mx2vKKb/h23T6bf9vu3gcpBx+1HQR+7ZctlSHYzjM51WDnO\n",
       "rA4DqKLx7PRi+CqT/y69qrMvCabx80igoAhvm7fTRrJ9VxCuQ+8ErBdJQt9C9eCnngU0YfSHuHdR\n",
       "DR0JvFkj9GKANAS/kEBevxuarQWd4uwKxz9O6vW3s0aMbGBqoYWXsrzCcIQf7vhl3pshE2JPIeM6\n",
       "qOAvNmL1jGewbSYPzvBI+duxSwY/GcWToDUsHwAAAChBnrdFESwj/wGwKasIB1jMyd71L4AHtldp\n",
       "w01ixplV/oawNFwAORphAAAAJwGe1nRH/wKwLe0HhYtsPoAONhHYhvzephnpfGp9jWJKZN8InTQE\n",
       "JQAAACMBnthqR/8ACokhOoALWqfjF44dS3lCnTWCxPFBjhvV+COcXAAAAEJBmtpJqEFsmUwIZ//+\n",
       "nhAAFP1S2AHe00akW/cHhGm5T/fnRN8+IoRnRi4j6h0/w1XUO2kI2RFFgGK+p/nL6VTl7rEAAAAy\n",
       "QZr+SeEKUmUwIZ/+nhAACke4Rvum7OSuBgAvMx/+45Rr6zV+/4mHTgl9ZyU9KBJYiEwAAAAnQZ8c\n",
       "RTRMI/8AHQttIAsVtWADaPRnYn5dwlbROLu/JvVRUH1i0K2TAAAAHgGfO3RH/wAFQFUf5wAEYxn/\n",
       "7jnIN9D8ZOfHMA9XLQAAACgBnz1qR/8ABR062wAAcSkf+47l62npw/OnXEdz6vE81M2Ve/iQUX+A\n",
       "AAAAYUGbIkmoQWiZTAhf//6MsAAE5+JwlfM0a10AIb4EAyEnctfndwyVgQLHXK9icuabbjej1QA1\n",
       "p4Z1T6eL8q/rya0BVcGGSf2P3Zb0s1Fb4+jxWmXh78DdwUa+yPkbSvvnqBIAAAA6QZ9ARREsI/8A\n",
       "HQ3IG6B9AAgboyOIktb+PxzhKDm4WfuXjMA8tYniBn7rXzsb0k5pcj6mzgVQXedFHQAAACEBn390\n",
       "R/8AAn0oTUAIl/G6lBsfQ2SqUPKHGlT+4kIP8IAAAAAZAZ9hakf/AAJ8hEu6R6LlEAM2jdPmtiyY\n",
       "3QAAADFBm2ZJqEFsmUwIX//+jLAABMfic9qehlqACwJDvH/CIzTxC084lYA3uC5zewOsdGqwAAAA\n",
       "J0GfhEUVLCP/AB0NyBs/I6AauMSM7DsVZkS13TPmCNuwyyRPcVfU8QAAABcBn6N0R/8AAmqIzW0g\n",
       "AT0ourxmUi1dwQAAAB4Bn6VqR/8AAmsh64i/3MgBOM1SJGKcyKP1I9V1KKEAAABdQZuqSahBbJlM\n",
       "CF///oywAAJj8TCcpTUuaAEP0Ir7XqVIaL/1slXTz6pkwZI0zrix7Egjv2rn1EHtODMqWxa6fypP\n",
       "sKzOirfFNPnzvUQUd/x9pD7W12QZHf/XIE95AAAAOEGfyEUVLCP/AB0NyAt5BYEBbYAOgOb263VH\n",
       "sqd7WmarPsEBYT0ZpTa1xaZFXVnI03TWpTLtyM/CAAAAGgGf53RH/wABNcWCK8AAnUg1RIxXBY6I\n",
       "WqvwAAAAIwGf6WpH/wABNZFiVBxZAAB/vifCG4HXR05u+jycrnHndNdvAAAAN0Gb7EmoQWyZTBRM\n",
       "L//+jLAAATnpvhDgAhNcbErdZgpZQwGp9uT6IsBr18cf5nc8cgLvOfsor+wAAAAZAZ4Lakf/AC6k\n",
       "ESQCg+8ogBmqvlObg71tJgAAADBBmg1J4QpSZTAhf/6MsAABOEjP8AC6gCkPGYQhQ0jJw3weEibP\n",
       "iIUp229cDua29uEAAAAwQZoxSeEOiZTAhf/+jLAAATn4nP2S/4G1gAAlMZMeaSjLwbcybmFdFEvk\n",
       "4VWlMGtfAAAAI0GeT0URPCP/AB0LbQIBdbHVmwAcbTX1NiOR33840k0D2p+BAAAAHQGebnRH/wAA\n",
       "nwu4w+jAigAK3hMQMB0+cZbM7wpAAAAAFwGecGpH/wAAUcVOk6AAH8bROHPQ2cHAAAAAV0GadEmo\n",
       "QWiZTAhf//6MsAAAoXuaKYyYnnTJ4uANqiIXK2sA3gEScrmO4+5qykZp9WOZAEXkd54Lq0B/Tglh\n",
       "86eG3aXVxGK+nyTIYWCohSusr875S9UrlQAAABpBnpJFESwj/wAdDcgAQw82kT4blMjKs+ydaAAA\n",
       "ACEBnrNqR/8AAFRH/Lri9fUAA/nQvWwPaMGCqi1GZGLX1SAAAABaQZq2SahBbJlMFEwv//6MsAAA\n",
       "XbdLwQDT3DI3r/lu1KjHS2Sx0fZF3b6sNP8slx2AYwj1h+7zuyoze8KVQ29nYrXPY0U3f01kG/rZ\n",
       "2lOXUKziU8pMd9lB0+CBAAAAGAGe1WpH/wAupBEYwJ3gnPMw09Pnnv7CmQAAACJBmtpJ4QpSZTAh\n",
       "f/6MsAAAWSpzTkiNSACowhoxUdcMpRSTAAAAFUGe+EU0TCP/AB0LbP8oMar4Qy6VoQAAABABnxd0\n",
       "R/8AAC15vrMzuWHsAAAADwGfGWpH/wAALWKOqI3SmQAAAHlBmx5JqEFomUwIX//+jLAFDw/+MsSk\n",
       "VAHKNKEySd4J2gf0+zzW3suPVWz+zySjahVR91OKelH/xiaCVVhm7NHzifRSRT2BlDUS1s2RL/vB\n",
       "ybo+HsQWTQ0g+qQax1P4E9ZUS9KLu1mMF8MEzJeVjdzZVDespLB2dZiQAAAAFkGfPEURLCP/AZyY\n",
       "9fmf3WXZoG2DVsEAAAAQAZ9bdEf/AAAteh08nrXuoQAAAA8Bn11qR/8CjZqc6YdQXcAAAAArQZtf\n",
       "SahBbJlMCGf//p4QAT31Zov2GD2AFrcA/DyMORnhQgd75zJ+x8RsXAAAADZBm2NJ4QpSZTAhn/6e\n",
       "EAAEtSdpYAP2XeTsjCzbze4JcSwkv8R4cF0zVHXOGceH1Y8K3fq5TbkAAAAcQZ+BRTRMI/8AHQtt\n",
       "DaMLBFHTeDYdRlvl3RcjFgAAABEBn6B0R/8AAmv/tmS82FuUJQAAABcBn6JqR/8AAmrWxYMSFVk2\n",
       "/mJkePVT8AAAADlBm6dJqEFomUwIZ//+nhAABLvixiBYfCxgAaEpaE4QnF7rBKO5ZHO4wy8Z2JNL\n",
       "aJdy6btBB42jPmEAAAA3QZ/FRREsI/8AHQ3IGz3e1V3+EOwkcABz7jXmjBUSwm37bHxLWXd8SyAN\n",
       "eoE+oxx3uj+IsZILcQAAABgBn+R0R/8AAmrEjJyjQz9m2lRuu75ioUEAAAAlAZ/makf/AAFHyp4k\n",
       "ca0nVwAArw1foBj6OmbhBhyj1FX74nbubQAAADZBm+tJqEFsmUwIX//+jLAAAnPvZkb0XkAD9ltD\n",
       "Chsfzan7aAlN1o9JiPODJUcOtq7PDPPPm5wAAAAYQZ4JRRUsI/8AHQ3IDJMb64Fnlp5K7R/xAAAA\n",
       "GQGeKHRH/wABRxWQVuyo0bVROWao3oHRlCkAAAAVAZ4qakf/AAFHzSfWOrKT6BogFSVwAAAAM0Ga\n",
       "L0moQWyZTAhf//6MsAABQQ0x6w1GQAbPuA1MT8kxKkmJ4FmewS9XfHJGrRIc6QmuqAAAADJBnk1F\n",
       "FSwj/wAdDcgMkydd2eAI6Oq9lGFmrSuyYdfe50K6oewNjK+N1xMIfmLkHlviLQAAABUBnmx0R/8A\n",
       "AUcXDQN+yjioFb3rI/0AAAAZAZ5uakf/AAFHzUCwlQ0QW/DlCSLELDPV8QAAADlBmnNJqEFsmUwI\n",
       "X//+jLAAAKT/OWwAmkDWvwbHt5f+3aRZgbdklW5lkFVup+2gJHOK5GP2ImxIXrQAAAAvQZ6RRRUs\n",
       "I/8AHQ3IDJMph+xY4AjPdHlwVgreTDZxQI/MKvmrVdUpVsVKknnOOfYAAAAUAZ6wdEf/AAFHF0mE\n",
       "TgnPPkbbVccAAAAqAZ6yakf/AAFHzYME82AAAcFQZjQ4jcMnQ9moY+OWxzDVZ/4W5LWuZNUgAAAA\n",
       "O0GatUmoQWyZTBRML//+jLAAAKX+YhP0DjoWdUi46BYAG0GWr7XqVIaL/1slXxn3ymexvBygdGlk\n",
       "8mugAAAAHwGe1GpH/wAupBE1KNQN/EGKf8fzdm0AM5D7oEFa+4EAAAAbQZrZSeEKUmUwIX/+jLAA\n",
       "AFm9qsrKw8mginxkAAAAFUGe90U0TCP/AB0LbQZIYTtfh/1iIQAAAB0BnxZ0R/8AAUcXN66qeO1w\n",
       "AWh53dGixAEbKb19iQAAAAwBnxhqR/8AAUfNYo0AAAAeQZsbSahBaJlMFPC//oywAABXeZXqcWpw\n",
       "RvIq4mAhAAAAEwGfOmpH/wAupBE1KNLSmptdo2AAAABUQZs+SeEKUmUwIV/+OEATO4Iz7EiASahH\n",
       "e4v1gHdsXYEgyV+RQGAFXTSodSF1+7CU942BfHSe1qrd0T0n2wIk2ENjW7/VOnDgt1dMKdww9Anm\n",
       "PTCBAAAAGUGfXEU0TCP/AZyZBPPFS3gvhXgD7Dq/deEAAAAVAZ99akf/Ao2awoR4llCjO4QO1WXA\n",
       "AAAANUGbYEmoQWiZTBTwr/44QAAUjk/j+gATRE2HeQUWVxhXq39U4GhPK4yVNGeSarXFwr0PBErg\n",
       "AAAAFgGfn2pH/wAupBFaPGiv/LveaY4wX+EAAAA+QZuBSeEKUmUwIX/+jLAABVN8Yobb4gQAmrxp\n",
       "ZnZF3+NXG8lLlmo/xBhqER8htOJHm8aDjtNT0SKjtikxP2AAAABIQZujSeEOiZTBTRML//6MsAAF\n",
       "TDhf4AFq5jAKsN+65Qd+IwlE2WGWWB781bJmA4nL1RlIF4PLMbukD2aXS9yYTFlHtT5w8uEhAAAA\n",
       "IwGfwmpH/wACsGlU6gBDSP/3HekJvUAiGr66LES7wLDO+ZJwAAAAXkGbx0nhDyZTAhX//jhAABRw\n",
       "DAM2x7rq9L6e2cAJatREyUC2ypO1RosciWAMev7IBklq2nVP+nOkSuyNpOt0cfkZampKDLjYjGo4\n",
       "Y2EwCZqcO9ODmKMkRV/zcVfUUOEAAAAsQZ/lRRE8I/8AHLCxU+Ka1CtBAA4Gl9TYp1YNxQ0bOsec\n",
       "xBOXe5M16c/EeKEAAAApAZ4EdEf/AALHMcAF/rSWvFNbvcBkVzJGj34GcqQautEDWlJZ3zp07vcA\n",
       "AAAsAZ4Gakf/AALEn+FowADZ9lTHsuT7ZPGOyiaGC9ur/rFMhZLj6iKXAY42qxEAAAAoQZoISahB\n",
       "aJlMCF///oywAAK4obp/SMo5oUcagbLX5fChW6/1nr3mBAAAADpBmitJ4QpSZTAhf/6MsAACu+w/\n",
       "G6//BQABYhnU+HQBf/ZCEqlLrsXzSUyJ/hDdMIDbLS5mxmoB6XWQAAAAL0GeSUU0TCP/AB0LbQbr\n",
       "Y+HygBYcCA9Fz6h/lWVMHMihp8Vhagc0MLLhIsoAufS9AAAAMwGeampH/wABbJjgAv9O+wG1ie/9\n",
       "nKtUv2oLvWo5RUf3TVN4AYKubjdFFti1BAVQy9lCQAAAACpBmm1JqEFomUwU8L/+jLAAAWT+ctgB\n",
       "B5gFGvdUbwytrwremDL5W4VfzJsAAAAZAZ6Makf/AC6kESZ8B7yxiCX89VtzUAssrwAAAFxBmpBJ\n",
       "4QpSZTAhX/44QAAFZA2B8fVYAL5c//+/4O/gsWqDLIsqUrbGujXM37CXmxl6GAubpouyXs+3bMwM\n",
       "9V5VML0zMLn1GLXb6eODI+qVdnDj4CvcJFcTccB3gQAAADtBnq5FNEwj/wAdC20HKSRRGEYnq5QA\n",
       "1+I9i2W6BE2MUGoy0A3M+V4aMcH4zegSJOYwmrnAUJis0lNerwAAAB4Bns9qR/8AALrMcAF/d1U8\n",
       "6ggzOlKZuKppNuQxl0AAAAAYQZrRSahBaJlMCF///oywAAC21bk7lF7gAAAAF0Ga8knhClJlMCF/\n",
       "/oywAAC20/RwARe5AAAANUGbFknhDomUwIX//oywAAC3+5ojezeBAC3CaHgc2q6WYf5m4jPQSmDs\n",
       "OtHb3ItMdJ3qxs5gAAAALEGfNEURPCP/AB0LbQdIYayDq259hjJ19ACaupUQToD+2f0lq49nDUAW\n",
       "JiJIAAAAHwGfU3RH/wAAsQu8evKn0QBAfFPbU3u34+gBXyNZdnkAAAAsAZ9Vakf/AACxZsJG3i5K\n",
       "0KA04fACaSnxE/y/fAY4m/3WuJCusYkS8iNzLnwAAABIQZtZSahBaJlMCFf//jhAAAFrtRbibboA\n",
       "LqNLaPQii6qD5MAMPQMqDrlOgEj3QY23ibn60AYv8RssFCrzC5x7xskpWE6+m4OBAAAAF0Gfd0UR\n",
       "LCP/AB0NyA6TKrIdx4kRXzdpAAAAJAGfmGpH/wAAsWbCTB7oAAH4dp0HfWWIDDLsGp4viQqjwR5g\n",
       "+AAAADxBm5pJqEFsmUwIX//+jLAAALtjMgAJfGqrTPjTC9X6SXCpzskZ390GQR5B85hcP2B5IG44\n",
       "8BhFoo+aTYEAAAA1QZu8SeEKUmUwUVLC//6MsAAAvGlPP4OyaJEQMAFoG89YYK3dpzb9swwF4HNO\n",
       "8c/t1N/4XbgAAAAgAZ/bakf/AABffhLXgAIuqH/uO5etp6cAQWQATzvrVHEAAAAsQZvASeEOiZTA\n",
       "hX/+OEAABWLOOgA/Wcf+47mNrYZF/e/9l4Tik/QncbGKse8AAAAdQZ/+RRU8I/8AHLCxUcqzhk37\n",
       "1jXVMmpBCmFaNaAAAAAUAZ4ddEf/AABdM4uJAT4J2UHOYOAAAAAoAZ4fakf/AAC16+VQAsPOypj2\n",
       "WvRRRxDKN74GJs9x2S2dDwYWAJ+BpQAAADpBmgJJqEFomUwU8K/+OEAABWO3rKSIATTHDmZHv3zZ\n",
       "c5ai/uWFDpbU3BMOnR4pIB9WsUOOTU0p12ZgAAAAJgGeIWpH/wAupBE5KM+5fQAqufmUra+OoUyp\n",
       "FVj+QyYrSPlXkVeBAAAAVUGaJknhClJlMCEf/eEAACf8n4T2ALOhGolHL9650AeK04t4ip23NJQC\n",
       "Bg3xRu7J1Zv1AXGGgBl2250RFMCvVFal6sFolMxMpPGVF6BT94exeZn4O94AAAAsQZ5ERTRMI/8A\n",
       "HQttB0hlJQTM7eMAFehpjAfXzFW2lITXeBdaMwuHGjwHm3kAAAArAZ5jdEf/AAFi9LGbPI2CQAh6\n",
       "p+nTkjcOqW+1uh+9QrbDWTkch/EeeiwaoQAAACwBnmVqR/8AAWOY4AL/WkteKa3e35JA4t9rL+M2\n",
       "v8DN4m+11eiIMtt1HCN42QAAADVBmmdJqEFomUwI//yEAACaxLuRr1DM6UAAD9x1TrSuGLUpTwo9\n",
       "IncFFNBUL4ERO9P8TbMZgQAAC/5tb292AAAAbG12aGQAAAAAAAAAAAAAAAAAAAPoAAAPoAABAAAB\n",
       "AAAAAAAAAAAAAAAAAQAAAAAAAAAAAAAAAAAAAAEAAAAAAAAAAAAAAAAAAEAAAAAAAAAAAAAAAAAA\n",
       "AAAAAAAAAAAAAAAAAAAAAAACAAALKHRyYWsAAABcdGtoZAAAAAMAAAAAAAAAAAAAAAEAAAAAAAAP\n",
       "oAAAAAAAAAAAAAAAAAAAAAAAAQAAAAAAAAAAAAAAAAAAAAEAAAAAAAAAAAAAAAAAAEAAAAABsAAA\n",
       "ASAAAAAAACRlZHRzAAAAHGVsc3QAAAAAAAAAAQAAD6AAAAIAAAEAAAAACqBtZGlhAAAAIG1kaGQA\n",
       "AAAAAAAAAAAAAAAAADIAAADIAFXEAAAAAAAtaGRscgAAAAAAAAAAdmlkZQAAAAAAAAAAAAAAAFZp\n",
       "ZGVvSGFuZGxlcgAAAApLbWluZgAAABR2bWhkAAAAAQAAAAAAAAAAAAAAJGRpbmYAAAAcZHJlZgAA\n",
       "AAAAAAABAAAADHVybCAAAAABAAAKC3N0YmwAAACzc3RzZAAAAAAAAAABAAAAo2F2YzEAAAAAAAAA\n",
       "AQAAAAAAAAAAAAAAAAAAAAABsAEgAEgAAABIAAAAAAAAAAEAAAAAAAAAAAAAAAAAAAAAAAAAAAAA\n",
       "AAAAAAAAAAAAAAAY//8AAAAxYXZjQwFkAB7/4QAYZ2QAHqzZQbCWhAAAAwAEAAADAZA8WLZYAQAG\n",
       "aOvjyyLAAAAAHHV1aWRraEDyXyRPxbo5pRvPAyPzAAAAAAAAABhzdHRzAAAAAAAAAAEAAADIAAAB\n",
       "AAAAABRzdHNzAAAAAAAAAAEAAAABAAAFwGN0dHMAAAAAAAAAtgAAAAIAAAIAAAAAAQAABAAAAAAC\n",
       "AAABAAAAAAEAAAQAAAAAAgAAAQAAAAABAAADAAAAAAEAAAEAAAAAAQAABAAAAAACAAABAAAAAAIA\n",
       "AAIAAAAAAQAAAwAAAAABAAABAAAAAAEAAAIAAAAAAQAABQAAAAABAAACAAAAAAEAAAAAAAAAAQAA\n",
       "AQAAAAABAAADAAAAAAEAAAEAAAAAAQAABQAAAAABAAACAAAAAAEAAAAAAAAAAQAAAQAAAAABAAAD\n",
       "AAAAAAEAAAEAAAAAAQAAAwAAAAABAAABAAAAAAEAAAUAAAAAAQAAAgAAAAABAAAAAAAAAAEAAAEA\n",
       "AAAAAQAABQAAAAABAAACAAAAAAEAAAAAAAAAAQAAAQAAAAABAAACAAAAAAEAAAQAAAAAAgAAAQAA\n",
       "AAABAAAFAAAAAAEAAAIAAAAAAQAAAAAAAAABAAABAAAAAAEAAAIAAAAAAQAABAAAAAACAAABAAAA\n",
       "AAEAAAUAAAAAAQAAAgAAAAABAAAAAAAAAAEAAAEAAAAAAQAABQAAAAABAAACAAAAAAEAAAAAAAAA\n",
       "AQAAAQAAAAABAAAFAAAAAAEAAAIAAAAAAQAAAAAAAAABAAABAAAAAAEAAAUAAAAAAQAAAgAAAAAB\n",
       "AAAAAAAAAAEAAAEAAAAAAQAABAAAAAACAAABAAAAAAEAAAQAAAAAAgAAAQAAAAABAAADAAAAAAEA\n",
       "AAEAAAAAAQAABAAAAAACAAABAAAAAAMAAAIAAAAAAQAABQAAAAABAAACAAAAAAEAAAAAAAAAAQAA\n",
       "AQAAAAABAAAFAAAAAAEAAAIAAAAAAQAAAAAAAAABAAABAAAAAAEAAAIAAAAAAQAABQAAAAABAAAC\n",
       "AAAAAAEAAAAAAAAAAQAAAQAAAAABAAAFAAAAAAEAAAIAAAAAAQAAAAAAAAABAAABAAAAAAEAAAUA\n",
       "AAAAAQAAAgAAAAABAAAAAAAAAAEAAAEAAAAAAQAABQAAAAABAAACAAAAAAEAAAAAAAAAAQAAAQAA\n",
       "AAABAAADAAAAAAEAAAEAAAAAAQAAAgAAAAABAAAFAAAAAAEAAAIAAAAAAQAAAAAAAAABAAABAAAA\n",
       "AAEAAAQAAAAAAgAAAQAAAAABAAADAAAAAAEAAAEAAAAAAQAABQAAAAABAAACAAAAAAEAAAAAAAAA\n",
       "AQAAAQAAAAABAAAFAAAAAAEAAAIAAAAAAQAAAAAAAAABAAABAAAAAAEAAAIAAAAAAQAABQAAAAAB\n",
       "AAACAAAAAAEAAAAAAAAAAQAAAQAAAAABAAAFAAAAAAEAAAIAAAAAAQAAAAAAAAABAAABAAAAAAEA\n",
       "AAUAAAAAAQAAAgAAAAABAAAAAAAAAAEAAAEAAAAAAQAABQAAAAABAAACAAAAAAEAAAAAAAAAAQAA\n",
       "AQAAAAABAAAFAAAAAAEAAAIAAAAAAQAAAAAAAAABAAABAAAAAAEAAAMAAAAAAQAAAQAAAAABAAAF\n",
       "AAAAAAEAAAIAAAAAAQAAAAAAAAABAAABAAAAAAEAAAMAAAAAAQAAAQAAAAABAAAEAAAAAAIAAAEA\n",
       "AAAAAQAAAwAAAAABAAABAAAAAAEAAAIAAAAAAQAAAwAAAAABAAABAAAAAAEAAAUAAAAAAQAAAgAA\n",
       "AAABAAAAAAAAAAEAAAEAAAAAAQAAAgAAAAABAAAEAAAAAAIAAAEAAAAAAQAAAwAAAAABAAABAAAA\n",
       "AAEAAAQAAAAAAgAAAQAAAAACAAACAAAAAAEAAAUAAAAAAQAAAgAAAAABAAAAAAAAAAEAAAEAAAAA\n",
       "AQAABAAAAAACAAABAAAAAAEAAAIAAAAAAQAAAwAAAAABAAABAAAAAAEAAAUAAAAAAQAAAgAAAAAB\n",
       "AAAAAAAAAAEAAAEAAAAAAQAAAwAAAAABAAABAAAAAAEAAAUAAAAAAQAAAgAAAAABAAAAAAAAAAEA\n",
       "AAEAAAAAAQAAAgAAAAAcc3RzYwAAAAAAAAABAAAAAQAAAMgAAAABAAADNHN0c3oAAAAAAAAAAAAA\n",
       "AMgAAAy6AAABTAAAAHwAAABDAAAAKQAAAHwAAABDAAAAJwAAAFEAAAAiAAAAVwAAADoAAAApAAAA\n",
       "OAAAADkAAAA0AAAAGAAAAB0AAAA4AAAAMgAAABsAAAAZAAAAMQAAACkAAABJAAAARwAAAB4AAAA0\n",
       "AAAAKwAAABsAAAAeAAAAFAAAACsAAAAYAAAAHQAAABUAAACXAAAATwAAACEAAAAeAAAAMwAAADkA\n",
       "AAAhAAAAIQAAAD0AAABLAAAAJQAAAC4AAAAvAAAANgAAACMAAAAtAAAAcwAAADgAAAApAAAAJQAA\n",
       "AD4AAAAtAAAALgAAADYAAACEAAAALgAAACAAAAAoAAAARwAAADYAAAA3AAAAHwAAADsAAAAwAAAA\n",
       "NgAAAE4AAAAiAAAAHwAAACsAAAAkAAAAQwAAACcAAAApAAAARgAAAEcAAABVAAAAPQAAAE8AAAAm\n",
       "AAAAKAAAANEAAAAsAAAAKwAAACcAAABGAAAANgAAACsAAAAiAAAALAAAAGUAAAA+AAAAJQAAAB0A\n",
       "AAA1AAAAKwAAABsAAAAiAAAAYQAAADwAAAAeAAAAJwAAADsAAAAdAAAANAAAADQAAAAnAAAAIQAA\n",
       "ABsAAABbAAAAHgAAACUAAABeAAAAHAAAACYAAAAZAAAAFAAAABMAAAB9AAAAGgAAABQAAAATAAAA\n",
       "LwAAADoAAAAgAAAAFQAAABsAAAA9AAAAOwAAABwAAAApAAAAOgAAABwAAAAdAAAAGQAAADcAAAA2\n",
       "AAAAGQAAAB0AAAA9AAAAMwAAABgAAAAuAAAAPwAAACMAAAAfAAAAGQAAACEAAAAQAAAAIgAAABcA\n",
       "AABYAAAAHQAAABkAAAA5AAAAGgAAAEIAAABMAAAAJwAAAGIAAAAwAAAALQAAADAAAAAsAAAAPgAA\n",
       "ADMAAAA3AAAALgAAAB0AAABgAAAAPwAAACIAAAAcAAAAGwAAADkAAAAwAAAAIwAAADAAAABMAAAA\n",
       "GwAAACgAAABAAAAAOQAAACQAAAAwAAAAIQAAABgAAAAsAAAAPgAAACoAAABZAAAAMAAAAC8AAAAw\n",
       "AAAAOQAAABRzdGNvAAAAAAAAAAEAAAAsAAAAYnVkdGEAAABabWV0YQAAAAAAAAAhaGRscgAAAAAA\n",
       "AAAAbWRpcmFwcGwAAAAAAAAAAAAAAAAtaWxzdAAAACWpdG9vAAAAHWRhdGEAAAABAAAAAExhdmY1\n",
       "OC4yMC4xMDA=\n",
       "\">\n",
       "  Your browser does not support the video tag.\n",
       "</video>"
      ],
      "text/plain": [
       "<IPython.core.display.HTML object>"
      ]
     },
     "execution_count": 8,
     "metadata": {},
     "output_type": "execute_result"
    }
   ],
   "source": [
    "HTML(anim.to_html5_video())"
   ]
  },
  {
   "cell_type": "markdown",
   "metadata": {},
   "source": [
    "## we want to do a bit of preprocessing to our images\n",
    "\n",
    "we don't really need all the colors and full resolution image, \n",
    "make it grayscale and resize"
   ]
  },
  {
   "cell_type": "code",
   "execution_count": 10,
   "metadata": {},
   "outputs": [],
   "source": [
    "class StatePrep(object):\n",
    "    \"\"\" Preproces the state. \"\"\"\n",
    "    def __init__(self, size):\n",
    "        \n",
    "        self.transform = T.Compose([\n",
    "            T.ToPILImage(),\n",
    "            T.Lambda(lambda x: x.convert('L')),\n",
    "            T.Resize((size,size)),\n",
    "            T.ToTensor()])\n",
    "\n",
    "    def run(self, s):\n",
    "        s = s[35:205] # crop\n",
    "        s = s[:,7:153]\n",
    "\n",
    "        s = self.transform(s)\n",
    "        s[s > 0] = 1\n",
    "        return s.unsqueeze(0)\n",
    "\n",
    "#we create this object and tell it what size to resize our images to\n",
    "prep = StatePrep(84)"
   ]
  },
  {
   "cell_type": "markdown",
   "metadata": {},
   "source": [
    "### lets look at an example image and preprocessed image"
   ]
  },
  {
   "cell_type": "code",
   "execution_count": 11,
   "metadata": {},
   "outputs": [
    {
     "data": {
      "image/png": "[encoded data removed]",
      "text/plain": [
       "<Figure size 576x288 with 2 Axes>"
      ]
     },
     "metadata": {
      "needs_background": "light"
     },
     "output_type": "display_data"
    }
   ],
   "source": [
    "fig,ax = plt.subplots(1,2,figsize=(8,4))\n",
    "\n",
    "idx = 23\n",
    "sprime = prep.run(screens[idx])\n",
    "\n",
    "ax[0].imshow(screens[idx])\n",
    "ax[1].imshow(-sprime[0][0],cmap='gray')\n",
    "\n",
    "plt.show()"
   ]
  },
  {
   "cell_type": "markdown",
   "metadata": {},
   "source": [
    "## the state we deal with is a collection of 4 frames. while the states given from the environment are a single frame. \n",
    "\n",
    "let's create functions to initialize a state with 4 frames, and to add a single frame to an existing state"
   ]
  },
  {
   "cell_type": "code",
   "execution_count": 12,
   "metadata": {},
   "outputs": [],
   "source": [
    "def InitialState(state):\n",
    "    return torch.cat([prep.run(state)] * 4, 1)\n",
    "\n",
    "def AddNextState(state,next_state):\n",
    "    return torch.cat([state.narrow(1, 1, 3), prep.run(next_state)], 1)"
   ]
  },
  {
   "cell_type": "markdown",
   "metadata": {},
   "source": [
    "## In the stage where we generate games, we store the (state,action,reward, next state) information in a memory buffer\n",
    "\n",
    "let's define the class for that memory buffer"
   ]
  },
  {
   "cell_type": "code",
   "execution_count": 13,
   "metadata": {},
   "outputs": [],
   "source": [
    "class ReplayMemory(object):\n",
    "    \"\"\" Facilitates memory replay. \"\"\"\n",
    "    def __init__(self, capacity):\n",
    "        self.capacity = capacity\n",
    "        self.memory = []\n",
    "        self.idx = 0\n",
    "\n",
    "    def push(self, m):\n",
    "        if len(self.memory) < self.capacity:\n",
    "            self.memory.append(None)\n",
    "        self.memory[self.idx] = m\n",
    "        self.idx = (self.idx + 1) % self.capacity\n",
    "\n",
    "    def sample(self, bsz):\n",
    "        batch = random.sample(self.memory, bsz)\n",
    "        return map(lambda x: torch.cat(x, 0), zip(*batch))"
   ]
  },
  {
   "cell_type": "markdown",
   "metadata": {},
   "source": [
    "## Now we define our agent neural net"
   ]
  },
  {
   "cell_type": "code",
   "execution_count": 14,
   "metadata": {},
   "outputs": [],
   "source": [
    "class QNet(nn.Module):\n",
    "    def __init__(self, nA):\n",
    "        super(QNet, self).__init__()\n",
    "        self.conv1 = nn.Conv2d(4, 32, kernel_size=8, stride=4)\n",
    "        self.conv2 = nn.Conv2d(32, 64, kernel_size=4, stride=2)\n",
    "        self.conv3 = nn.Conv2d(64, 64, kernel_size=3, stride=1)\n",
    "        self.fc1 = nn.Linear(7 * 7 * 64, 512)\n",
    "        self.fc2 = nn.Linear(512, nA)\n",
    "\n",
    "    def forward(self, x):\n",
    "        x = F.relu(self.conv1(x))\n",
    "        x = F.relu(self.conv2(x))\n",
    "        x = F.relu(self.conv3(x))\n",
    "        x = F.relu(self.fc1(x.view(x.size(0), -1)))\n",
    "        return self.fc2(x)"
   ]
  },
  {
   "cell_type": "markdown",
   "metadata": {},
   "source": [
    "## define a function to choose an action based on neural network output and epsilon parameter"
   ]
  },
  {
   "cell_type": "code",
   "execution_count": 15,
   "metadata": {},
   "outputs": [],
   "source": [
    "def ChooseAction(net,n_actions,state,eps):\n",
    "    p = np.array([eps/n_actions]*4)\n",
    "    \n",
    "    q, arg_q = net(state).data.cpu().max(1) # choose max Q and matching action\n",
    "    \n",
    "    p[arg_q.item()]+= 1-eps\n",
    "    \n",
    "    action = np.random.choice(np.arange(n_actions),p=p)\n",
    "    \n",
    "    next_state, reward, done, _ = env.step(action)\n",
    "    \n",
    "    next_state = AddNextState(state,next_state)\n",
    "    \n",
    "    return next_state, reward, action, done\n",
    "    "
   ]
  },
  {
   "cell_type": "code",
   "execution_count": 16,
   "metadata": {},
   "outputs": [],
   "source": [
    "### hyperparameters\n",
    "\n",
    "mem_capacity = 1000000\n",
    "eps_min = 0.1\n",
    "eps_decay_window = 1000000\n",
    "mem_init_size = 50000\n",
    "max_episodes = 10000\n",
    "sync_period = 10000\n",
    "learn_freq = 4\n",
    "batch_size = 32\n",
    "gamma = 0.99"
   ]
  },
  {
   "cell_type": "markdown",
   "metadata": {},
   "source": [
    "### let's initialize our objects"
   ]
  },
  {
   "cell_type": "code",
   "execution_count": 17,
   "metadata": {},
   "outputs": [],
   "source": [
    "env = gym.make('Breakout-v4')\n",
    "state = env.reset()\n",
    "state = InitialState(state)\n",
    "\n",
    "n_actions = env.action_space.n\n",
    "\n",
    "mem = ReplayMemory(mem_capacity)\n",
    "\n",
    "Qnet = QNet(n_actions)\n",
    "Tnet = QNet(n_actions)\n",
    "\n",
    "opt = torch.optim.RMSprop(Qnet.parameters(),\n",
    "        lr=0.00025, eps=0.001, alpha=0.95)\n",
    "crit = nn.MSELoss()\n",
    "\n",
    "Qnet.train()\n",
    "Tnet.eval()\n",
    "\n",
    "eps = 1\n",
    "eps_delta = (eps - eps_min) / eps_decay_window"
   ]
  },
  {
   "cell_type": "markdown",
   "metadata": {},
   "source": [
    "# fill the memory buffer with random games"
   ]
  },
  {
   "cell_type": "code",
   "execution_count": 18,
   "metadata": {},
   "outputs": [],
   "source": [
    "for _ in range(mem_init_size):\n",
    "    next_state, reward, action, done = ChooseAction(Qnet,n_actions,state,eps)\n",
    "    \n",
    "    mem.push((state, torch.LongTensor([int(action)]),\n",
    "                torch.Tensor([reward]), next_state, torch.Tensor([done])))\n",
    "    \n",
    "    if done:\n",
    "        state = env.reset()\n",
    "        state = InitialState(state)\n",
    "    else:\n",
    "        state = next_state"
   ]
  },
  {
   "cell_type": "markdown",
   "metadata": {},
   "source": [
    "## start the training / generating loop\n",
    "\n",
    "we won't actually bother to train this, you will see how it works in practice in the homework, but much faster"
   ]
  },
  {
   "cell_type": "code",
   "execution_count": 81,
   "metadata": {},
   "outputs": [
    {
     "name": "stdout",
     "output_type": "stream",
     "text": [
      "episode  1\n",
      "episode  11\n",
      "episode  21\n",
      "episode  31\n",
      "episode  41\n",
      "episode  51\n",
      "episode  61\n",
      "episode  71\n",
      "episode  81\n",
      "episode  91\n"
     ]
    }
   ],
   "source": [
    "t = 0\n",
    "\n",
    "episode_rewards = []\n",
    "\n",
    "for episode_i in range(max_episodes):\n",
    "    \n",
    "    if episode_i % 10 == 0:\n",
    "        print('episode ',episode_i+1)\n",
    "    \n",
    "    state = env.reset()\n",
    "    state = InitialState(state)\n",
    "    done = False\n",
    "    ep_len = 0\n",
    "    \n",
    "    episode_rewards.append(0)\n",
    "    \n",
    "    while not done:\n",
    "        if t % sync_period == 0:\n",
    "            Tnet.load_state_dict(Qnet.state_dict())\n",
    "        \n",
    "        \n",
    "        #adjust epsilon\n",
    "        \n",
    "        cur_eps = max(eps_min, eps - eps_delta * t)\n",
    "        \n",
    "        # play a step, save in memory buffer\n",
    "        \n",
    "        next_state, reward, action, done = ChooseAction(Qnet,n_actions,state,cur_eps)\n",
    "        \n",
    "        episode_rewards[-1]+=reward\n",
    "        \n",
    "        mem.push((state, torch.LongTensor([int(action)]),\n",
    "                torch.Tensor([reward]), next_state, torch.Tensor([done])))\n",
    "        if done:\n",
    "            state = env.reset()\n",
    "            state = InitialState(state)\n",
    "        else:\n",
    "            state = next_state\n",
    "            \n",
    "        t += 1\n",
    "        ep_len += 1\n",
    "        \n",
    "        #every n steps, perform a training step, on a minibatch sampled from the memory buffer\n",
    "        \n",
    "        if ep_len % learn_freq == 0:\n",
    "            opt.zero_grad()\n",
    "            \n",
    "            bs, ba, br, bns, bdone = mem.sample(batch_size)\n",
    "            \n",
    "            bq = Qnet(bs).gather(1, ba.unsqueeze(1)).squeeze(1)\n",
    "            \n",
    "            bnq = Tnet(bns).detach().max(1)[0] * gamma * (1 - bdone)\n",
    "            \n",
    "            loss = crit(bq, br + bnq)\n",
    "            \n",
    "            loss.backward()\n",
    "            \n",
    "            opt.step()"
   ]
  },
  {
   "cell_type": "code",
   "execution_count": null,
   "metadata": {},
   "outputs": [],
   "source": []
  },
  {
   "cell_type": "code",
   "execution_count": null,
   "metadata": {},
   "outputs": [],
   "source": []
  }
 ],
 "metadata": {
  "kernelspec": {
   "display_name": "Python 3",
   "language": "python",
   "name": "python3"
  },
  "language_info": {
   "codemirror_mode": {
    "name": "ipython",
    "version": 3
   },
   "file_extension": ".py",
   "mimetype": "text/x-python",
   "name": "python",
   "nbconvert_exporter": "python",
   "pygments_lexer": "ipython3",
   "version": "3.7.3"
  }
 },
 "nbformat": 4,
 "nbformat_minor": 2
}
